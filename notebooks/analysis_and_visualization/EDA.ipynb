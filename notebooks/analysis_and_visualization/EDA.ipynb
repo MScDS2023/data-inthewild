{
 "cells": [
  {
   "cell_type": "code",
   "execution_count": 3,
   "metadata": {},
   "outputs": [],
   "source": [
    "import warnings\n",
    "warnings.simplefilter(action='ignore', category=FutureWarning)\n",
    "import pandas as pd\n",
    "from collections import Counter\n",
    "import numpy as np\n",
    "from scipy import stats"
   ]
  },
  {
   "cell_type": "code",
   "execution_count": 4,
   "metadata": {},
   "outputs": [],
   "source": [
    "data = pd.read_json('../../data/processed/data.json').T"
   ]
  },
  {
   "cell_type": "markdown",
   "metadata": {},
   "source": [
    "## Preprocessing  "
   ]
  },
  {
   "cell_type": "code",
   "execution_count": 5,
   "metadata": {},
   "outputs": [],
   "source": [
    "nutrition_df = data[['nutrition','rating','Tags']].reset_index()"
   ]
  },
  {
   "cell_type": "code",
   "execution_count": 6,
   "metadata": {},
   "outputs": [],
   "source": [
    "tags_df1 = pd.DataFrame(data['Tags']).reset_index()"
   ]
  },
  {
   "cell_type": "code",
   "execution_count": 7,
   "metadata": {},
   "outputs": [],
   "source": [
    "ingredients_df1 = pd.DataFrame(data['ingredient_annotations']).reset_index()"
   ]
  },
  {
   "cell_type": "code",
   "execution_count": 8,
   "metadata": {},
   "outputs": [],
   "source": [
    "geographical_tags_updated = pd.DataFrame(data['geographical_tags_updated']).reset_index()"
   ]
  },
  {
   "cell_type": "code",
   "execution_count": 9,
   "metadata": {},
   "outputs": [],
   "source": [
    "nutrition_df = nutrition_df.set_index(['index','rating'])"
   ]
  },
  {
   "cell_type": "code",
   "execution_count": 10,
   "metadata": {},
   "outputs": [],
   "source": [
    "nutrition_df = nutrition_df['nutrition'].apply(pd.Series)"
   ]
  },
  {
   "cell_type": "code",
   "execution_count": 11,
   "metadata": {},
   "outputs": [],
   "source": [
    "nutrition_df = nutrition_df.rename(columns = {0:'Calories',1:'Fat',2:'Carbs',3:'Fiber',4:'Sugar',5:'Protein'})"
   ]
  },
  {
   "cell_type": "code",
   "execution_count": 12,
   "metadata": {},
   "outputs": [],
   "source": [
    "for i in nutrition_df.columns:\n",
    "    nutrition_df[i] = nutrition_df[i].str.extract('(\\d+)')[0]"
   ]
  },
  {
   "cell_type": "code",
   "execution_count": 13,
   "metadata": {},
   "outputs": [],
   "source": [
    "calories = [4,4,9,4,2]\n",
    "nutrition_df.iloc[:,1:] = nutrition_df.iloc[:,1:].apply(pd.to_numeric, errors='coerce')\n",
    "nutrition_df.iloc[:,1:] = nutrition_df.iloc[:,1:]*calories #converting nutritional values grams to their equivalent in calories\n",
    "nutrition_df = nutrition_df.reset_index()\n",
    "#nutrition_df = nutrition_df.dropna()\n",
    "#nutrition_df = nutrition_df[nutrition_df['rating'] != 'NA']\n"
   ]
  },
  {
   "cell_type": "code",
   "execution_count": 14,
   "metadata": {},
   "outputs": [],
   "source": [
    "nutrition_tags = pd.merge(nutrition_df,tags_df1, on = 'index',how = 'inner')"
   ]
  },
  {
   "cell_type": "code",
   "execution_count": 15,
   "metadata": {},
   "outputs": [],
   "source": [
    "nutrition_tags = pd.merge(nutrition_tags,ingredients_df1, on = 'index',how = 'inner')"
   ]
  },
  {
   "cell_type": "code",
   "execution_count": 16,
   "metadata": {},
   "outputs": [],
   "source": [
    "nutrition_tags = pd.merge(nutrition_tags,geographical_tags_updated,on = 'index',how = 'inner')"
   ]
  },
  {
   "cell_type": "code",
   "execution_count": 17,
   "metadata": {},
   "outputs": [],
   "source": [
    "nutrition_tags['Proteins/Calories'] = nutrition_tags['Protein']/nutrition_tags['Calories'].astype(float)\n",
    "nutrition_tags['Fat/Calories'] = nutrition_tags['Fat']/nutrition_tags['Calories'].astype(float)\n",
    "nutrition_tags['Carbs/Calories'] = nutrition_tags['Carbs']/nutrition_tags['Calories'].astype(float)\n",
    "nutrition_tags['Fiber/Calories'] = nutrition_tags['Fiber']/nutrition_tags['Calories'].astype(float)\n",
    "nutrition_tags['Sugar/Calories'] = nutrition_tags['Sugar']/nutrition_tags['Calories'].astype(float)"
   ]
  },
  {
   "cell_type": "code",
   "execution_count": 18,
   "metadata": {},
   "outputs": [],
   "source": [
    "nutrition_tags['Tags Count'] = nutrition_tags['Tags'].apply(len)"
   ]
  },
  {
   "cell_type": "code",
   "execution_count": 19,
   "metadata": {},
   "outputs": [],
   "source": [
    "nutrition_tags['Ingredients Count'] = nutrition_tags['ingredient_annotations'].apply(len)"
   ]
  },
  {
   "cell_type": "code",
   "execution_count": 20,
   "metadata": {},
   "outputs": [],
   "source": [
    "nutrition_tags['Geographical Tags Count'] = nutrition_tags['geographical_tags_updated'].apply(len) "
   ]
  },
  {
   "cell_type": "code",
   "execution_count": 21,
   "metadata": {},
   "outputs": [],
   "source": [
    "#nutrition_tags = nutrition_tags[nutrition_tags['Tags Count'] <= 50]"
   ]
  },
  {
   "cell_type": "code",
   "execution_count": 22,
   "metadata": {},
   "outputs": [],
   "source": [
    "dict1 = {}\n",
    "for i,j in zip(nutrition_tags['Proteins/Calories'],nutrition_tags['Tags']):\n",
    "    for x in j:\n",
    "        dict1.setdefault(x,[]).append(i)"
   ]
  },
  {
   "cell_type": "code",
   "execution_count": 23,
   "metadata": {},
   "outputs": [],
   "source": [
    "dict_mean = {}\n",
    "for i,j in dict1.items():\n",
    "    dict_mean[i] = (np.mean(j),len(j))"
   ]
  },
  {
   "cell_type": "code",
   "execution_count": 24,
   "metadata": {},
   "outputs": [],
   "source": [
    "mean_percentage_protein = pd.DataFrame.from_dict(dict_mean,orient='index') #wrong"
   ]
  },
  {
   "cell_type": "code",
   "execution_count": 25,
   "metadata": {},
   "outputs": [],
   "source": [
    "no_comments = pd.DataFrame(data['number_of_comments'].str.strip('TIPS').astype(int)).reset_index()"
   ]
  },
  {
   "cell_type": "code",
   "execution_count": 26,
   "metadata": {},
   "outputs": [],
   "source": [
    "no_comments['comments_rank'] = no_comments['number_of_comments'].rank(ascending=False,method = 'first')"
   ]
  },
  {
   "cell_type": "code",
   "execution_count": 27,
   "metadata": {},
   "outputs": [],
   "source": [
    "df = pd.merge(nutrition_tags,no_comments, on = 'index',how = 'inner')"
   ]
  },
  {
   "cell_type": "code",
   "execution_count": 28,
   "metadata": {},
   "outputs": [],
   "source": [
    "df.loc[df['rating'] == 'NA','rating'] = np.nan"
   ]
  },
  {
   "cell_type": "code",
   "execution_count": 29,
   "metadata": {},
   "outputs": [],
   "source": [
    "df['rating'] = df['rating'].apply(float)"
   ]
  },
  {
   "cell_type": "markdown",
   "metadata": {},
   "source": [
    "## EDA "
   ]
  },
  {
   "cell_type": "code",
   "execution_count": 30,
   "metadata": {},
   "outputs": [
    {
     "data": {
      "text/plain": [
       "2967"
      ]
     },
     "execution_count": 30,
     "metadata": {},
     "output_type": "execute_result"
    }
   ],
   "source": [
    "len(df) # before dropping"
   ]
  },
  {
   "cell_type": "code",
   "execution_count": 31,
   "metadata": {},
   "outputs": [],
   "source": [
    "df = df[df['Geographical Tags Count'] != 0]"
   ]
  },
  {
   "cell_type": "code",
   "execution_count": 32,
   "metadata": {},
   "outputs": [
    {
     "data": {
      "text/plain": [
       "2588"
      ]
     },
     "execution_count": 32,
     "metadata": {},
     "output_type": "execute_result"
    }
   ],
   "source": [
    "len(df) # after dropping |"
   ]
  },
  {
   "cell_type": "markdown",
   "metadata": {},
   "source": [
    "#### Comments"
   ]
  },
  {
   "cell_type": "code",
   "execution_count": 33,
   "metadata": {},
   "outputs": [
    {
     "name": "stdout",
     "output_type": "stream",
     "text": [
      "\\begin{tabular}{lr}\n",
      "\\toprule\n",
      " & number_of_comments \\\\\n",
      "\\midrule\n",
      "count & 2588.000000 \\\\\n",
      "mean & 83.824189 \\\\\n",
      "std & 206.332644 \\\\\n",
      "min & 0.000000 \\\\\n",
      "25% & 6.000000 \\\\\n",
      "50% & 26.000000 \\\\\n",
      "75% & 88.250000 \\\\\n",
      "max & 4704.000000 \\\\\n",
      "\\bottomrule\n",
      "\\end{tabular}\n",
      "\n"
     ]
    }
   ],
   "source": [
    "print(df['number_of_comments'].describe().to_latex())"
   ]
  },
  {
   "cell_type": "code",
   "execution_count": 34,
   "metadata": {},
   "outputs": [
    {
     "data": {
      "text/plain": [
       "226"
      ]
     },
     "execution_count": 34,
     "metadata": {},
     "output_type": "execute_result"
    }
   ],
   "source": [
    "len(df[df['number_of_comments'] == 0])"
   ]
  },
  {
   "cell_type": "code",
   "execution_count": 35,
   "metadata": {},
   "outputs": [
    {
     "data": {
      "text/plain": [
       "216937"
      ]
     },
     "execution_count": 35,
     "metadata": {},
     "output_type": "execute_result"
    }
   ],
   "source": [
    "df['number_of_comments'].sum() # total number of comments"
   ]
  },
  {
   "cell_type": "markdown",
   "metadata": {},
   "source": [
    "#### Ingredients"
   ]
  },
  {
   "cell_type": "code",
   "execution_count": 36,
   "metadata": {},
   "outputs": [],
   "source": [
    "distinct_ingred = set()\n",
    "for i in df['ingredient_annotations']:\n",
    "    for j in i:\n",
    "        distinct_ingred.add(j)"
   ]
  },
  {
   "cell_type": "code",
   "execution_count": 37,
   "metadata": {},
   "outputs": [
    {
     "data": {
      "text/plain": [
       "1736"
      ]
     },
     "execution_count": 37,
     "metadata": {},
     "output_type": "execute_result"
    }
   ],
   "source": [
    "len(distinct_ingred) # total number of distinct ingredients"
   ]
  },
  {
   "cell_type": "code",
   "execution_count": 38,
   "metadata": {},
   "outputs": [
    {
     "data": {
      "text/plain": [
       "count    2588.000000\n",
       "mean       13.911515\n",
       "std         6.164939\n",
       "min         2.000000\n",
       "25%         9.000000\n",
       "50%        13.000000\n",
       "75%        17.000000\n",
       "max        59.000000\n",
       "Name: Ingredients Count, dtype: float64"
      ]
     },
     "execution_count": 38,
     "metadata": {},
     "output_type": "execute_result"
    }
   ],
   "source": [
    "df['Ingredients Count'].describe() # average number of ingredients per recipe"
   ]
  },
  {
   "cell_type": "markdown",
   "metadata": {},
   "source": [
    "#### Tags"
   ]
  },
  {
   "cell_type": "code",
   "execution_count": 39,
   "metadata": {},
   "outputs": [],
   "source": [
    "distinct_tags = set()\n",
    "for i in df['Tags']:\n",
    "    for j in i:\n",
    "        distinct_tags.add(j)"
   ]
  },
  {
   "cell_type": "code",
   "execution_count": 40,
   "metadata": {},
   "outputs": [
    {
     "data": {
      "text/plain": [
       "202"
      ]
     },
     "execution_count": 40,
     "metadata": {},
     "output_type": "execute_result"
    }
   ],
   "source": [
    "len(distinct_tags)"
   ]
  },
  {
   "cell_type": "code",
   "execution_count": 41,
   "metadata": {},
   "outputs": [
    {
     "data": {
      "text/plain": [
       "count    2588.000000\n",
       "mean       21.083849\n",
       "std         8.284206\n",
       "min         4.000000\n",
       "25%        16.000000\n",
       "50%        19.000000\n",
       "75%        23.000000\n",
       "max        90.000000\n",
       "Name: Tags Count, dtype: float64"
      ]
     },
     "execution_count": 41,
     "metadata": {},
     "output_type": "execute_result"
    }
   ],
   "source": [
    "df['Tags Count'].describe() # average number of tags per recipe"
   ]
  },
  {
   "cell_type": "code",
   "execution_count": 42,
   "metadata": {},
   "outputs": [],
   "source": [
    "distinct_geo_tags = set()\n",
    "for i in df['geographical_tags_updated']:\n",
    "    for j in i:\n",
    "        distinct_geo_tags.add(j)"
   ]
  },
  {
   "cell_type": "code",
   "execution_count": 43,
   "metadata": {},
   "outputs": [
    {
     "data": {
      "text/plain": [
       "41"
      ]
     },
     "execution_count": 43,
     "metadata": {},
     "output_type": "execute_result"
    }
   ],
   "source": [
    "len(distinct_geo_tags)"
   ]
  },
  {
   "cell_type": "code",
   "execution_count": 44,
   "metadata": {},
   "outputs": [
    {
     "data": {
      "text/plain": [
       "count    2588.000000\n",
       "mean        1.989181\n",
       "std         1.368611\n",
       "min         1.000000\n",
       "25%         1.000000\n",
       "50%         2.000000\n",
       "75%         2.000000\n",
       "max        16.000000\n",
       "Name: Geographical Tags Count, dtype: float64"
      ]
     },
     "execution_count": 44,
     "metadata": {},
     "output_type": "execute_result"
    }
   ],
   "source": [
    "df['Geographical Tags Count'].describe()"
   ]
  },
  {
   "cell_type": "markdown",
   "metadata": {},
   "source": [
    "#### Nutritional info"
   ]
  },
  {
   "cell_type": "code",
   "execution_count": 45,
   "metadata": {},
   "outputs": [
    {
     "data": {
      "text/plain": [
       "count    2174.000000\n",
       "mean      591.439282\n",
       "std       329.684787\n",
       "min         4.000000\n",
       "25%       343.000000\n",
       "50%       536.000000\n",
       "75%       779.000000\n",
       "max      2009.000000\n",
       "Name: Calories, dtype: float64"
      ]
     },
     "execution_count": 45,
     "metadata": {},
     "output_type": "execute_result"
    }
   ],
   "source": [
    "df['Calories'].astype(float).describe() # average calories per recipe"
   ]
  },
  {
   "cell_type": "code",
   "execution_count": 46,
   "metadata": {},
   "outputs": [
    {
     "data": {
      "text/plain": [
       "count     2174.0\n",
       "unique    1992.0\n",
       "top          0.0\n",
       "freq        15.0\n",
       "Name: Carbs/Calories, dtype: float64"
      ]
     },
     "execution_count": 46,
     "metadata": {},
     "output_type": "execute_result"
    }
   ],
   "source": [
    "df['Carbs/Calories'].describe() # average percentage of carbs in calories per recipe"
   ]
  },
  {
   "cell_type": "code",
   "execution_count": 47,
   "metadata": {},
   "outputs": [
    {
     "data": {
      "text/plain": [
       "count     2174.0\n",
       "unique    1846.0\n",
       "top          0.0\n",
       "freq        20.0\n",
       "Name: Fat/Calories, dtype: float64"
      ]
     },
     "execution_count": 47,
     "metadata": {},
     "output_type": "execute_result"
    }
   ],
   "source": [
    "df['Fat/Calories'].describe() # average percentage of fat in calories per recipe"
   ]
  },
  {
   "cell_type": "code",
   "execution_count": 48,
   "metadata": {},
   "outputs": [
    {
     "data": {
      "text/plain": [
       "count     2174.0\n",
       "unique    1603.0\n",
       "top          0.0\n",
       "freq       179.0\n",
       "Name: Fiber/Calories, dtype: float64"
      ]
     },
     "execution_count": 48,
     "metadata": {},
     "output_type": "execute_result"
    }
   ],
   "source": [
    "df['Fiber/Calories'].describe() # average percentage of fiber in calories per recipe"
   ]
  },
  {
   "cell_type": "code",
   "execution_count": 49,
   "metadata": {},
   "outputs": [
    {
     "data": {
      "text/plain": [
       "count     2174.0\n",
       "unique    1893.0\n",
       "top          0.0\n",
       "freq        16.0\n",
       "Name: Proteins/Calories, dtype: float64"
      ]
     },
     "execution_count": 49,
     "metadata": {},
     "output_type": "execute_result"
    }
   ],
   "source": [
    "df['Proteins/Calories'].describe() # average percentage of protein in calories per recipe"
   ]
  },
  {
   "cell_type": "code",
   "execution_count": 50,
   "metadata": {},
   "outputs": [
    {
     "data": {
      "text/plain": [
       "count     2174.0\n",
       "unique    1709.0\n",
       "top          0.0\n",
       "freq       107.0\n",
       "Name: Sugar/Calories, dtype: float64"
      ]
     },
     "execution_count": 50,
     "metadata": {},
     "output_type": "execute_result"
    }
   ],
   "source": [
    "df['Sugar/Calories'].describe() # average percentage of sugar in calories per recipe"
   ]
  },
  {
   "cell_type": "markdown",
   "metadata": {},
   "source": [
    "#### RATING"
   ]
  },
  {
   "cell_type": "code",
   "execution_count": 51,
   "metadata": {},
   "outputs": [
    {
     "name": "stdout",
     "output_type": "stream",
     "text": [
      "\\begin{tabular}{lr}\n",
      "\\toprule\n",
      " & rating \\\\\n",
      "\\midrule\n",
      "count & 2030.000000 \\\\\n",
      "mean & 91.747291 \\\\\n",
      "std & 7.215249 \\\\\n",
      "min & 21.000000 \\\\\n",
      "25% & 90.000000 \\\\\n",
      "50% & 94.000000 \\\\\n",
      "75% & 96.000000 \\\\\n",
      "max & 100.000000 \\\\\n",
      "\\bottomrule\n",
      "\\end{tabular}\n",
      "\n"
     ]
    }
   ],
   "source": [
    "print(df['rating'].describe().to_latex())"
   ]
  },
  {
   "cell_type": "code",
   "execution_count": 52,
   "metadata": {},
   "outputs": [
    {
     "data": {
      "text/plain": [
       "0       98.0\n",
       "1       91.0\n",
       "2       96.0\n",
       "3       82.0\n",
       "4        NaN\n",
       "        ... \n",
       "2961    96.0\n",
       "2962    97.0\n",
       "2963    94.0\n",
       "2964     NaN\n",
       "2966     NaN\n",
       "Name: rating, Length: 2588, dtype: float64"
      ]
     },
     "execution_count": 52,
     "metadata": {},
     "output_type": "execute_result"
    }
   ],
   "source": [
    "df['rating']"
   ]
  },
  {
   "cell_type": "code",
   "execution_count": 53,
   "metadata": {},
   "outputs": [
    {
     "data": {
      "image/png": "[encoded data removed]",
      "text/plain": [
       "<Figure size 640x480 with 1 Axes>"
      ]
     },
     "metadata": {},
     "output_type": "display_data"
    }
   ],
   "source": [
    "df['rating'].plot.hist();"
   ]
  },
  {
   "cell_type": "code",
   "execution_count": 54,
   "metadata": {},
   "outputs": [
    {
     "data": {
      "text/html": [
       "<div>\n",
       "<style scoped>\n",
       "    .dataframe tbody tr th:only-of-type {\n",
       "        vertical-align: middle;\n",
       "    }\n",
       "\n",
       "    .dataframe tbody tr th {\n",
       "        vertical-align: top;\n",
       "    }\n",
       "\n",
       "    .dataframe thead th {\n",
       "        text-align: right;\n",
       "    }\n",
       "</style>\n",
       "<table border=\"1\" class=\"dataframe\">\n",
       "  <thead>\n",
       "    <tr style=\"text-align: right;\">\n",
       "      <th></th>\n",
       "      <th>index</th>\n",
       "      <th>rating</th>\n",
       "      <th>Calories</th>\n",
       "      <th>Fat</th>\n",
       "      <th>Carbs</th>\n",
       "      <th>Fiber</th>\n",
       "      <th>Sugar</th>\n",
       "      <th>Protein</th>\n",
       "      <th>Tags</th>\n",
       "      <th>ingredient_annotations</th>\n",
       "      <th>...</th>\n",
       "      <th>Proteins/Calories</th>\n",
       "      <th>Fat/Calories</th>\n",
       "      <th>Carbs/Calories</th>\n",
       "      <th>Fiber/Calories</th>\n",
       "      <th>Sugar/Calories</th>\n",
       "      <th>Tags Count</th>\n",
       "      <th>Ingredients Count</th>\n",
       "      <th>Geographical Tags Count</th>\n",
       "      <th>number_of_comments</th>\n",
       "      <th>comments_rank</th>\n",
       "    </tr>\n",
       "  </thead>\n",
       "  <tbody>\n",
       "    <tr>\n",
       "      <th>1</th>\n",
       "      <td>https://tasty.co/recipe/lauras-potato-latkes</td>\n",
       "      <td>91.0</td>\n",
       "      <td>NaN</td>\n",
       "      <td>NaN</td>\n",
       "      <td>NaN</td>\n",
       "      <td>NaN</td>\n",
       "      <td>NaN</td>\n",
       "      <td>NaN</td>\n",
       "      <td>[Meal, Breakfast, Sweet Breakfasts, Waffles, J...</td>\n",
       "      <td>[potato, onion, egg, salt, pepper, matzo, vege...</td>\n",
       "      <td>...</td>\n",
       "      <td>NaN</td>\n",
       "      <td>NaN</td>\n",
       "      <td>NaN</td>\n",
       "      <td>NaN</td>\n",
       "      <td>NaN</td>\n",
       "      <td>31</td>\n",
       "      <td>9</td>\n",
       "      <td>2</td>\n",
       "      <td>25</td>\n",
       "      <td>1436.0</td>\n",
       "    </tr>\n",
       "    <tr>\n",
       "      <th>3</th>\n",
       "      <td>https://tasty.co/recipe/green-sauce-shrimp-pasta</td>\n",
       "      <td>82.0</td>\n",
       "      <td>NaN</td>\n",
       "      <td>NaN</td>\n",
       "      <td>NaN</td>\n",
       "      <td>NaN</td>\n",
       "      <td>NaN</td>\n",
       "      <td>NaN</td>\n",
       "      <td>[Meal, Dinner, Seafood, Pasta, Low-Fat, Low-Su...</td>\n",
       "      <td>[butter, thyme, rosemary, shrimp, flour, milk,...</td>\n",
       "      <td>...</td>\n",
       "      <td>NaN</td>\n",
       "      <td>NaN</td>\n",
       "      <td>NaN</td>\n",
       "      <td>NaN</td>\n",
       "      <td>NaN</td>\n",
       "      <td>20</td>\n",
       "      <td>15</td>\n",
       "      <td>1</td>\n",
       "      <td>67</td>\n",
       "      <td>844.0</td>\n",
       "    </tr>\n",
       "    <tr>\n",
       "      <th>8</th>\n",
       "      <td>https://tasty.co/recipe/grilled-sausage-dinner...</td>\n",
       "      <td>NaN</td>\n",
       "      <td>NaN</td>\n",
       "      <td>NaN</td>\n",
       "      <td>NaN</td>\n",
       "      <td>NaN</td>\n",
       "      <td>NaN</td>\n",
       "      <td>NaN</td>\n",
       "      <td>[Cuisine, European, Italian, Pasta, Meal, Stov...</td>\n",
       "      <td>[salt, sam ’s, potato gnocchi, sam ’s, basil p...</td>\n",
       "      <td>...</td>\n",
       "      <td>NaN</td>\n",
       "      <td>NaN</td>\n",
       "      <td>NaN</td>\n",
       "      <td>NaN</td>\n",
       "      <td>NaN</td>\n",
       "      <td>13</td>\n",
       "      <td>8</td>\n",
       "      <td>2</td>\n",
       "      <td>1</td>\n",
       "      <td>2547.0</td>\n",
       "    </tr>\n",
       "    <tr>\n",
       "      <th>9</th>\n",
       "      <td>https://tasty.co/recipe/chicken-bacon-ranch-sa...</td>\n",
       "      <td>92.0</td>\n",
       "      <td>NaN</td>\n",
       "      <td>NaN</td>\n",
       "      <td>NaN</td>\n",
       "      <td>NaN</td>\n",
       "      <td>NaN</td>\n",
       "      <td>NaN</td>\n",
       "      <td>[Meal, Lunch, Sandwiches, Chicken, Bread, New ...</td>\n",
       "      <td>[bacon, frank, bread, egg, chicken, ranch, che...</td>\n",
       "      <td>...</td>\n",
       "      <td>NaN</td>\n",
       "      <td>NaN</td>\n",
       "      <td>NaN</td>\n",
       "      <td>NaN</td>\n",
       "      <td>NaN</td>\n",
       "      <td>29</td>\n",
       "      <td>11</td>\n",
       "      <td>1</td>\n",
       "      <td>89</td>\n",
       "      <td>686.0</td>\n",
       "    </tr>\n",
       "    <tr>\n",
       "      <th>10</th>\n",
       "      <td>https://tasty.co/recipe/beet-gnocchi</td>\n",
       "      <td>78.0</td>\n",
       "      <td>NaN</td>\n",
       "      <td>NaN</td>\n",
       "      <td>NaN</td>\n",
       "      <td>NaN</td>\n",
       "      <td>NaN</td>\n",
       "      <td>NaN</td>\n",
       "      <td>[Cuisine, European, Italian, Pasta, High-Fiber...</td>\n",
       "      <td>[beet, potato, egg, cheese, salt, wheat flour,...</td>\n",
       "      <td>...</td>\n",
       "      <td>NaN</td>\n",
       "      <td>NaN</td>\n",
       "      <td>NaN</td>\n",
       "      <td>NaN</td>\n",
       "      <td>NaN</td>\n",
       "      <td>18</td>\n",
       "      <td>8</td>\n",
       "      <td>2</td>\n",
       "      <td>83</td>\n",
       "      <td>724.0</td>\n",
       "    </tr>\n",
       "    <tr>\n",
       "      <th>...</th>\n",
       "      <td>...</td>\n",
       "      <td>...</td>\n",
       "      <td>...</td>\n",
       "      <td>...</td>\n",
       "      <td>...</td>\n",
       "      <td>...</td>\n",
       "      <td>...</td>\n",
       "      <td>...</td>\n",
       "      <td>...</td>\n",
       "      <td>...</td>\n",
       "      <td>...</td>\n",
       "      <td>...</td>\n",
       "      <td>...</td>\n",
       "      <td>...</td>\n",
       "      <td>...</td>\n",
       "      <td>...</td>\n",
       "      <td>...</td>\n",
       "      <td>...</td>\n",
       "      <td>...</td>\n",
       "      <td>...</td>\n",
       "      <td>...</td>\n",
       "    </tr>\n",
       "    <tr>\n",
       "      <th>2904</th>\n",
       "      <td>https://tasty.co/recipe/chicken-wings-the-gold...</td>\n",
       "      <td>NaN</td>\n",
       "      <td>NaN</td>\n",
       "      <td>NaN</td>\n",
       "      <td>NaN</td>\n",
       "      <td>NaN</td>\n",
       "      <td>NaN</td>\n",
       "      <td>NaN</td>\n",
       "      <td>[Meal, Dinner, Chicken, Sliders, Dips, Under 1...</td>\n",
       "      <td>[chicken, salt, pepper, great value ® parmesan...</td>\n",
       "      <td>...</td>\n",
       "      <td>NaN</td>\n",
       "      <td>NaN</td>\n",
       "      <td>NaN</td>\n",
       "      <td>NaN</td>\n",
       "      <td>NaN</td>\n",
       "      <td>19</td>\n",
       "      <td>7</td>\n",
       "      <td>1</td>\n",
       "      <td>1</td>\n",
       "      <td>2701.0</td>\n",
       "    </tr>\n",
       "    <tr>\n",
       "      <th>2917</th>\n",
       "      <td>https://tasty.co/recipe/ultimate-italian-frittata</td>\n",
       "      <td>NaN</td>\n",
       "      <td>NaN</td>\n",
       "      <td>NaN</td>\n",
       "      <td>NaN</td>\n",
       "      <td>NaN</td>\n",
       "      <td>NaN</td>\n",
       "      <td>NaN</td>\n",
       "      <td>[Cuisine, European, Italian, Quiches, Egg Brea...</td>\n",
       "      <td>[potato, onion, pepper, mushroom, olive oil, b...</td>\n",
       "      <td>...</td>\n",
       "      <td>NaN</td>\n",
       "      <td>NaN</td>\n",
       "      <td>NaN</td>\n",
       "      <td>NaN</td>\n",
       "      <td>NaN</td>\n",
       "      <td>22</td>\n",
       "      <td>16</td>\n",
       "      <td>2</td>\n",
       "      <td>0</td>\n",
       "      <td>2959.0</td>\n",
       "    </tr>\n",
       "    <tr>\n",
       "      <th>2925</th>\n",
       "      <td>https://tasty.co/recipe/prawn-paste-chicken-ha...</td>\n",
       "      <td>NaN</td>\n",
       "      <td>NaN</td>\n",
       "      <td>NaN</td>\n",
       "      <td>NaN</td>\n",
       "      <td>NaN</td>\n",
       "      <td>NaN</td>\n",
       "      <td>NaN</td>\n",
       "      <td>[Cuisine, Asian, Chinese, Chicken, Under 1 Hou...</td>\n",
       "      <td>[chicken, shrimp sauce, oyster sauce, sugar, s...</td>\n",
       "      <td>...</td>\n",
       "      <td>NaN</td>\n",
       "      <td>NaN</td>\n",
       "      <td>NaN</td>\n",
       "      <td>NaN</td>\n",
       "      <td>NaN</td>\n",
       "      <td>18</td>\n",
       "      <td>15</td>\n",
       "      <td>2</td>\n",
       "      <td>3</td>\n",
       "      <td>2445.0</td>\n",
       "    </tr>\n",
       "    <tr>\n",
       "      <th>2939</th>\n",
       "      <td>https://tasty.co/recipe/chicken-alfredo-lasagna</td>\n",
       "      <td>98.0</td>\n",
       "      <td>NaN</td>\n",
       "      <td>NaN</td>\n",
       "      <td>NaN</td>\n",
       "      <td>NaN</td>\n",
       "      <td>NaN</td>\n",
       "      <td>NaN</td>\n",
       "      <td>[Meal, Dinner, Pasta, Baked Pasta, Chicken, Hi...</td>\n",
       "      <td>[chicken, salt, pepper, garlic, canola oil, ga...</td>\n",
       "      <td>...</td>\n",
       "      <td>NaN</td>\n",
       "      <td>NaN</td>\n",
       "      <td>NaN</td>\n",
       "      <td>NaN</td>\n",
       "      <td>NaN</td>\n",
       "      <td>23</td>\n",
       "      <td>13</td>\n",
       "      <td>2</td>\n",
       "      <td>168</td>\n",
       "      <td>337.0</td>\n",
       "    </tr>\n",
       "    <tr>\n",
       "      <th>2940</th>\n",
       "      <td>https://tasty.co/recipe/carnitas-tostadas-with...</td>\n",
       "      <td>NaN</td>\n",
       "      <td>NaN</td>\n",
       "      <td>NaN</td>\n",
       "      <td>NaN</td>\n",
       "      <td>NaN</td>\n",
       "      <td>NaN</td>\n",
       "      <td>NaN</td>\n",
       "      <td>[Cuisine, North American, Mexican, Sliders, Di...</td>\n",
       "      <td>[pork, salt, mccormick ® pure ground black pep...</td>\n",
       "      <td>...</td>\n",
       "      <td>NaN</td>\n",
       "      <td>NaN</td>\n",
       "      <td>NaN</td>\n",
       "      <td>NaN</td>\n",
       "      <td>NaN</td>\n",
       "      <td>28</td>\n",
       "      <td>23</td>\n",
       "      <td>3</td>\n",
       "      <td>2</td>\n",
       "      <td>2545.0</td>\n",
       "    </tr>\n",
       "  </tbody>\n",
       "</table>\n",
       "<p>414 rows × 21 columns</p>\n",
       "</div>"
      ],
      "text/plain": [
       "                                                  index  rating Calories  Fat  \\\n",
       "1          https://tasty.co/recipe/lauras-potato-latkes    91.0      NaN  NaN   \n",
       "3      https://tasty.co/recipe/green-sauce-shrimp-pasta    82.0      NaN  NaN   \n",
       "8     https://tasty.co/recipe/grilled-sausage-dinner...     NaN      NaN  NaN   \n",
       "9     https://tasty.co/recipe/chicken-bacon-ranch-sa...    92.0      NaN  NaN   \n",
       "10                 https://tasty.co/recipe/beet-gnocchi    78.0      NaN  NaN   \n",
       "...                                                 ...     ...      ...  ...   \n",
       "2904  https://tasty.co/recipe/chicken-wings-the-gold...     NaN      NaN  NaN   \n",
       "2917  https://tasty.co/recipe/ultimate-italian-frittata     NaN      NaN  NaN   \n",
       "2925  https://tasty.co/recipe/prawn-paste-chicken-ha...     NaN      NaN  NaN   \n",
       "2939    https://tasty.co/recipe/chicken-alfredo-lasagna    98.0      NaN  NaN   \n",
       "2940  https://tasty.co/recipe/carnitas-tostadas-with...     NaN      NaN  NaN   \n",
       "\n",
       "     Carbs Fiber Sugar Protein  \\\n",
       "1      NaN   NaN   NaN     NaN   \n",
       "3      NaN   NaN   NaN     NaN   \n",
       "8      NaN   NaN   NaN     NaN   \n",
       "9      NaN   NaN   NaN     NaN   \n",
       "10     NaN   NaN   NaN     NaN   \n",
       "...    ...   ...   ...     ...   \n",
       "2904   NaN   NaN   NaN     NaN   \n",
       "2917   NaN   NaN   NaN     NaN   \n",
       "2925   NaN   NaN   NaN     NaN   \n",
       "2939   NaN   NaN   NaN     NaN   \n",
       "2940   NaN   NaN   NaN     NaN   \n",
       "\n",
       "                                                   Tags  \\\n",
       "1     [Meal, Breakfast, Sweet Breakfasts, Waffles, J...   \n",
       "3     [Meal, Dinner, Seafood, Pasta, Low-Fat, Low-Su...   \n",
       "8     [Cuisine, European, Italian, Pasta, Meal, Stov...   \n",
       "9     [Meal, Lunch, Sandwiches, Chicken, Bread, New ...   \n",
       "10    [Cuisine, European, Italian, Pasta, High-Fiber...   \n",
       "...                                                 ...   \n",
       "2904  [Meal, Dinner, Chicken, Sliders, Dips, Under 1...   \n",
       "2917  [Cuisine, European, Italian, Quiches, Egg Brea...   \n",
       "2925  [Cuisine, Asian, Chinese, Chicken, Under 1 Hou...   \n",
       "2939  [Meal, Dinner, Pasta, Baked Pasta, Chicken, Hi...   \n",
       "2940  [Cuisine, North American, Mexican, Sliders, Di...   \n",
       "\n",
       "                                 ingredient_annotations  ...  \\\n",
       "1     [potato, onion, egg, salt, pepper, matzo, vege...  ...   \n",
       "3     [butter, thyme, rosemary, shrimp, flour, milk,...  ...   \n",
       "8     [salt, sam ’s, potato gnocchi, sam ’s, basil p...  ...   \n",
       "9     [bacon, frank, bread, egg, chicken, ranch, che...  ...   \n",
       "10    [beet, potato, egg, cheese, salt, wheat flour,...  ...   \n",
       "...                                                 ...  ...   \n",
       "2904  [chicken, salt, pepper, great value ® parmesan...  ...   \n",
       "2917  [potato, onion, pepper, mushroom, olive oil, b...  ...   \n",
       "2925  [chicken, shrimp sauce, oyster sauce, sugar, s...  ...   \n",
       "2939  [chicken, salt, pepper, garlic, canola oil, ga...  ...   \n",
       "2940  [pork, salt, mccormick ® pure ground black pep...  ...   \n",
       "\n",
       "     Proteins/Calories Fat/Calories Carbs/Calories Fiber/Calories  \\\n",
       "1                  NaN          NaN            NaN            NaN   \n",
       "3                  NaN          NaN            NaN            NaN   \n",
       "8                  NaN          NaN            NaN            NaN   \n",
       "9                  NaN          NaN            NaN            NaN   \n",
       "10                 NaN          NaN            NaN            NaN   \n",
       "...                ...          ...            ...            ...   \n",
       "2904               NaN          NaN            NaN            NaN   \n",
       "2917               NaN          NaN            NaN            NaN   \n",
       "2925               NaN          NaN            NaN            NaN   \n",
       "2939               NaN          NaN            NaN            NaN   \n",
       "2940               NaN          NaN            NaN            NaN   \n",
       "\n",
       "     Sugar/Calories Tags Count  Ingredients Count  Geographical Tags Count  \\\n",
       "1               NaN         31                  9                        2   \n",
       "3               NaN         20                 15                        1   \n",
       "8               NaN         13                  8                        2   \n",
       "9               NaN         29                 11                        1   \n",
       "10              NaN         18                  8                        2   \n",
       "...             ...        ...                ...                      ...   \n",
       "2904            NaN         19                  7                        1   \n",
       "2917            NaN         22                 16                        2   \n",
       "2925            NaN         18                 15                        2   \n",
       "2939            NaN         23                 13                        2   \n",
       "2940            NaN         28                 23                        3   \n",
       "\n",
       "      number_of_comments  comments_rank  \n",
       "1                     25         1436.0  \n",
       "3                     67          844.0  \n",
       "8                      1         2547.0  \n",
       "9                     89          686.0  \n",
       "10                    83          724.0  \n",
       "...                  ...            ...  \n",
       "2904                   1         2701.0  \n",
       "2917                   0         2959.0  \n",
       "2925                   3         2445.0  \n",
       "2939                 168          337.0  \n",
       "2940                   2         2545.0  \n",
       "\n",
       "[414 rows x 21 columns]"
      ]
     },
     "execution_count": 54,
     "metadata": {},
     "output_type": "execute_result"
    }
   ],
   "source": [
    "df[df['Calories'].isna()]"
   ]
  },
  {
   "cell_type": "markdown",
   "metadata": {},
   "source": [
    "## Separate DFs"
   ]
  },
  {
   "cell_type": "code",
   "execution_count": 55,
   "metadata": {},
   "outputs": [],
   "source": [
    "ingredients = [j for i in df['ingredient_annotations'] for j in i]"
   ]
  },
  {
   "cell_type": "code",
   "execution_count": 56,
   "metadata": {},
   "outputs": [],
   "source": [
    "ingredients_df = pd.DataFrame.from_dict(dict(Counter(ingredients)),orient = 'index').rename(columns = {0:'Count'}).sort_values(by='Count',ascending = False)"
   ]
  },
  {
   "cell_type": "code",
   "execution_count": 57,
   "metadata": {},
   "outputs": [],
   "source": [
    "tags = [j for i in df['Tags'] for j in i]"
   ]
  },
  {
   "cell_type": "code",
   "execution_count": 58,
   "metadata": {},
   "outputs": [],
   "source": [
    "tags_df = pd.DataFrame.from_dict(dict(Counter(tags)),orient = 'index').rename(columns = {0:'Count'}).sort_values(by='Count',ascending = False)"
   ]
  },
  {
   "cell_type": "code",
   "execution_count": 59,
   "metadata": {},
   "outputs": [],
   "source": [
    "geo_tags = [j for i in df['geographical_tags_updated'] for j in i]"
   ]
  },
  {
   "cell_type": "code",
   "execution_count": 60,
   "metadata": {},
   "outputs": [],
   "source": [
    "geo_tags_df = pd.DataFrame.from_dict(dict(Counter(geo_tags)),orient = 'index').rename(columns = {0:'Count'}).sort_values(by='Count',ascending = False)"
   ]
  }
 ],
 "metadata": {
  "kernelspec": {
   "display_name": "base",
   "language": "python",
   "name": "python3"
  },
  "language_info": {
   "codemirror_mode": {
    "name": "ipython",
    "version": 3
   },
   "file_extension": ".py",
   "mimetype": "text/x-python",
   "name": "python",
   "nbconvert_exporter": "python",
   "pygments_lexer": "ipython3",
   "version": "3.10.11"
  },
  "orig_nbformat": 4
 },
 "nbformat": 4,
 "nbformat_minor": 2
}
