{
 "cells": [
  {
   "cell_type": "code",
   "execution_count": 1,
   "metadata": {},
   "outputs": [],
   "source": [
    "import warnings\n",
    "warnings.simplefilter(action='ignore', category=FutureWarning)\n",
    "import pandas as pd\n",
    "from collections import Counter\n",
    "import numpy as np\n",
    "from scipy import stats"
   ]
  },
  {
   "cell_type": "code",
   "execution_count": 2,
   "metadata": {},
   "outputs": [],
   "source": [
    "data = pd.read_json('../../data/processed/data.json')"
   ]
  },
  {
   "cell_type": "markdown",
   "metadata": {},
   "source": [
    "## Preprocessing  "
   ]
  },
  {
   "cell_type": "code",
   "execution_count": 3,
   "metadata": {},
   "outputs": [],
   "source": [
    "nutrition_df = data[['nutrition','rating','tags']].reset_index()"
   ]
  },
  {
   "cell_type": "code",
   "execution_count": 4,
   "metadata": {},
   "outputs": [],
   "source": [
    "tags_df1 = pd.DataFrame(data['tags']).reset_index()"
   ]
  },
  {
   "cell_type": "code",
   "execution_count": 5,
   "metadata": {},
   "outputs": [],
   "source": [
    "ingredients_df1 = pd.DataFrame(data['ingredient_annotations']).reset_index()"
   ]
  },
  {
   "cell_type": "code",
   "execution_count": 6,
   "metadata": {},
   "outputs": [],
   "source": [
    "nutrition_df = nutrition_df.set_index(['index','rating'])"
   ]
  },
  {
   "cell_type": "code",
   "execution_count": 7,
   "metadata": {},
   "outputs": [],
   "source": [
    "nutrition_df = nutrition_df['nutrition'].apply(pd.Series)"
   ]
  },
  {
   "cell_type": "code",
   "execution_count": 8,
   "metadata": {},
   "outputs": [],
   "source": [
    "nutrition_df = nutrition_df.rename(columns = {0:'Calories',1:'Fat',2:'Carbs',3:'Fiber',4:'Sugar',5:'Protein'})"
   ]
  },
  {
   "cell_type": "code",
   "execution_count": 9,
   "metadata": {},
   "outputs": [],
   "source": [
    "for i in nutrition_df.columns:\n",
    "    nutrition_df[i] = nutrition_df[i].str.extract('(\\d+)')[0]"
   ]
  },
  {
   "cell_type": "code",
   "execution_count": 10,
   "metadata": {},
   "outputs": [
    {
     "name": "stderr",
     "output_type": "stream",
     "text": [
      "/var/folders/4l/wfp4gjq50mb26f_4tbq4618w0000gn/T/ipykernel_96682/4029394756.py:2: DeprecationWarning: In a future version, `df.iloc[:, i] = newvals` will attempt to set the values inplace instead of always setting a new array. To retain the old behavior, use either `df[df.columns[i]] = newvals` or, if columns are non-unique, `df.isetitem(i, newvals)`\n",
      "  nutrition_df.iloc[:,1:] = nutrition_df.iloc[:,1:].apply(pd.to_numeric, errors='coerce')\n"
     ]
    }
   ],
   "source": [
    "calories = [4,4,9,4,2]\n",
    "nutrition_df.iloc[:,1:] = nutrition_df.iloc[:,1:].apply(pd.to_numeric, errors='coerce')\n",
    "nutrition_df.iloc[:,1:] = nutrition_df.iloc[:,1:]*calories #converting nutritional values grams to their equivalent in calories\n",
    "nutrition_df = nutrition_df.reset_index()\n",
    "nutrition_df = nutrition_df.dropna()\n",
    "nutrition_df = nutrition_df[nutrition_df['rating'] != 'NA']\n"
   ]
  },
  {
   "cell_type": "code",
   "execution_count": 11,
   "metadata": {},
   "outputs": [
    {
     "data": {
      "text/html": [
       "<div>\n",
       "<style scoped>\n",
       "    .dataframe tbody tr th:only-of-type {\n",
       "        vertical-align: middle;\n",
       "    }\n",
       "\n",
       "    .dataframe tbody tr th {\n",
       "        vertical-align: top;\n",
       "    }\n",
       "\n",
       "    .dataframe thead th {\n",
       "        text-align: right;\n",
       "    }\n",
       "</style>\n",
       "<table border=\"1\" class=\"dataframe\">\n",
       "  <thead>\n",
       "    <tr style=\"text-align: right;\">\n",
       "      <th></th>\n",
       "      <th>index</th>\n",
       "      <th>rating</th>\n",
       "      <th>Calories</th>\n",
       "      <th>Fat</th>\n",
       "      <th>Carbs</th>\n",
       "      <th>Fiber</th>\n",
       "      <th>Sugar</th>\n",
       "      <th>Protein</th>\n",
       "    </tr>\n",
       "  </thead>\n",
       "  <tbody>\n",
       "    <tr>\n",
       "      <th>0</th>\n",
       "      <td>https://tasty.co/recipe/nicks-jambalaya</td>\n",
       "      <td>98</td>\n",
       "      <td>787</td>\n",
       "      <td>196.0</td>\n",
       "      <td>80.0</td>\n",
       "      <td>36.0</td>\n",
       "      <td>32.0</td>\n",
       "      <td>136.0</td>\n",
       "    </tr>\n",
       "    <tr>\n",
       "      <th>2</th>\n",
       "      <td>https://tasty.co/recipe/lasagna-skillet-pasta</td>\n",
       "      <td>96</td>\n",
       "      <td>837</td>\n",
       "      <td>172.0</td>\n",
       "      <td>260.0</td>\n",
       "      <td>36.0</td>\n",
       "      <td>52.0</td>\n",
       "      <td>118.0</td>\n",
       "    </tr>\n",
       "    <tr>\n",
       "      <th>5</th>\n",
       "      <td>https://tasty.co/recipe/ultimate-mac-n-cheese</td>\n",
       "      <td>92</td>\n",
       "      <td>567</td>\n",
       "      <td>108.0</td>\n",
       "      <td>236.0</td>\n",
       "      <td>9.0</td>\n",
       "      <td>40.0</td>\n",
       "      <td>52.0</td>\n",
       "    </tr>\n",
       "    <tr>\n",
       "      <th>6</th>\n",
       "      <td>https://tasty.co/recipe/crispy-chickpeas</td>\n",
       "      <td>94</td>\n",
       "      <td>463</td>\n",
       "      <td>56.0</td>\n",
       "      <td>276.0</td>\n",
       "      <td>144.0</td>\n",
       "      <td>44.0</td>\n",
       "      <td>34.0</td>\n",
       "    </tr>\n",
       "    <tr>\n",
       "      <th>7</th>\n",
       "      <td>https://tasty.co/recipe/instant-pot-beef-chili</td>\n",
       "      <td>100</td>\n",
       "      <td>599</td>\n",
       "      <td>148.0</td>\n",
       "      <td>120.0</td>\n",
       "      <td>36.0</td>\n",
       "      <td>36.0</td>\n",
       "      <td>66.0</td>\n",
       "    </tr>\n",
       "    <tr>\n",
       "      <th>...</th>\n",
       "      <td>...</td>\n",
       "      <td>...</td>\n",
       "      <td>...</td>\n",
       "      <td>...</td>\n",
       "      <td>...</td>\n",
       "      <td>...</td>\n",
       "      <td>...</td>\n",
       "      <td>...</td>\n",
       "    </tr>\n",
       "    <tr>\n",
       "      <th>2959</th>\n",
       "      <td>https://tasty.co/recipe/vegetarian-gumbo</td>\n",
       "      <td>80</td>\n",
       "      <td>1055</td>\n",
       "      <td>224.0</td>\n",
       "      <td>444.0</td>\n",
       "      <td>144.0</td>\n",
       "      <td>64.0</td>\n",
       "      <td>64.0</td>\n",
       "    </tr>\n",
       "    <tr>\n",
       "      <th>2961</th>\n",
       "      <td>https://tasty.co/recipe/beef-bean-burritos</td>\n",
       "      <td>96</td>\n",
       "      <td>480</td>\n",
       "      <td>88.0</td>\n",
       "      <td>136.0</td>\n",
       "      <td>27.0</td>\n",
       "      <td>4.0</td>\n",
       "      <td>62.0</td>\n",
       "    </tr>\n",
       "    <tr>\n",
       "      <th>2962</th>\n",
       "      <td>https://tasty.co/recipe/garlic-parmesan-grille...</td>\n",
       "      <td>97</td>\n",
       "      <td>353</td>\n",
       "      <td>92.0</td>\n",
       "      <td>132.0</td>\n",
       "      <td>27.0</td>\n",
       "      <td>24.0</td>\n",
       "      <td>16.0</td>\n",
       "    </tr>\n",
       "    <tr>\n",
       "      <th>2963</th>\n",
       "      <td>https://tasty.co/recipe/curry-noodle-soup</td>\n",
       "      <td>94</td>\n",
       "      <td>762</td>\n",
       "      <td>196.0</td>\n",
       "      <td>268.0</td>\n",
       "      <td>27.0</td>\n",
       "      <td>60.0</td>\n",
       "      <td>16.0</td>\n",
       "    </tr>\n",
       "    <tr>\n",
       "      <th>2965</th>\n",
       "      <td>https://tasty.co/recipe/green-mac-n-cheese</td>\n",
       "      <td>93</td>\n",
       "      <td>373</td>\n",
       "      <td>72.0</td>\n",
       "      <td>136.0</td>\n",
       "      <td>9.0</td>\n",
       "      <td>12.0</td>\n",
       "      <td>36.0</td>\n",
       "    </tr>\n",
       "  </tbody>\n",
       "</table>\n",
       "<p>1937 rows × 8 columns</p>\n",
       "</div>"
      ],
      "text/plain": [
       "                                                  index rating Calories  \\\n",
       "0               https://tasty.co/recipe/nicks-jambalaya     98      787   \n",
       "2         https://tasty.co/recipe/lasagna-skillet-pasta     96      837   \n",
       "5         https://tasty.co/recipe/ultimate-mac-n-cheese     92      567   \n",
       "6              https://tasty.co/recipe/crispy-chickpeas     94      463   \n",
       "7        https://tasty.co/recipe/instant-pot-beef-chili    100      599   \n",
       "...                                                 ...    ...      ...   \n",
       "2959           https://tasty.co/recipe/vegetarian-gumbo     80     1055   \n",
       "2961         https://tasty.co/recipe/beef-bean-burritos     96      480   \n",
       "2962  https://tasty.co/recipe/garlic-parmesan-grille...     97      353   \n",
       "2963          https://tasty.co/recipe/curry-noodle-soup     94      762   \n",
       "2965         https://tasty.co/recipe/green-mac-n-cheese     93      373   \n",
       "\n",
       "        Fat  Carbs  Fiber  Sugar  Protein  \n",
       "0     196.0   80.0   36.0   32.0    136.0  \n",
       "2     172.0  260.0   36.0   52.0    118.0  \n",
       "5     108.0  236.0    9.0   40.0     52.0  \n",
       "6      56.0  276.0  144.0   44.0     34.0  \n",
       "7     148.0  120.0   36.0   36.0     66.0  \n",
       "...     ...    ...    ...    ...      ...  \n",
       "2959  224.0  444.0  144.0   64.0     64.0  \n",
       "2961   88.0  136.0   27.0    4.0     62.0  \n",
       "2962   92.0  132.0   27.0   24.0     16.0  \n",
       "2963  196.0  268.0   27.0   60.0     16.0  \n",
       "2965   72.0  136.0    9.0   12.0     36.0  \n",
       "\n",
       "[1937 rows x 8 columns]"
      ]
     },
     "execution_count": 11,
     "metadata": {},
     "output_type": "execute_result"
    }
   ],
   "source": [
    "nutrition_df"
   ]
  },
  {
   "cell_type": "code",
   "execution_count": 12,
   "metadata": {},
   "outputs": [],
   "source": [
    "nutrition_tags = pd.merge(nutrition_df,tags_df1, on = 'index',how = 'inner')"
   ]
  },
  {
   "cell_type": "code",
   "execution_count": 13,
   "metadata": {},
   "outputs": [],
   "source": [
    "nutrition_tags = pd.merge(nutrition_tags,ingredients_df1, on = 'index',how = 'inner')"
   ]
  },
  {
   "cell_type": "code",
   "execution_count": 14,
   "metadata": {},
   "outputs": [],
   "source": [
    "nutrition_tags['Proteins/Calories'] = nutrition_tags['Protein']/nutrition_tags['Calories'].astype(int)\n",
    "nutrition_tags['Fat/Calories'] = nutrition_tags['Fat']/nutrition_tags['Calories'].astype(float)\n",
    "nutrition_tags['Carbs/Calories'] = nutrition_tags['Carbs']/nutrition_tags['Calories'].astype(float)\n",
    "nutrition_tags['Fiber/Calories'] = nutrition_tags['Fiber']/nutrition_tags['Calories'].astype(float)\n",
    "nutrition_tags['Sugar/Calories'] = nutrition_tags['Sugar']/nutrition_tags['Calories'].astype(float)"
   ]
  },
  {
   "cell_type": "code",
   "execution_count": 15,
   "metadata": {},
   "outputs": [],
   "source": [
    "nutrition_tags['Tags Count'] = nutrition_tags['tags'].apply(len)"
   ]
  },
  {
   "cell_type": "code",
   "execution_count": 16,
   "metadata": {},
   "outputs": [],
   "source": [
    "nutrition_tags['Ingredients Count'] = nutrition_tags['ingredient_annotations'].apply(len)"
   ]
  },
  {
   "cell_type": "code",
   "execution_count": 17,
   "metadata": {},
   "outputs": [],
   "source": [
    "nutrition_tags = nutrition_tags[nutrition_tags['Tags Count'] <= 50]"
   ]
  },
  {
   "cell_type": "code",
   "execution_count": 18,
   "metadata": {},
   "outputs": [],
   "source": [
    "dict1 = {}\n",
    "for i,j in zip(nutrition_tags['Proteins/Calories'],nutrition_tags['tags']):\n",
    "    for x in j:\n",
    "        dict1.setdefault(x,[]).append(i)"
   ]
  },
  {
   "cell_type": "code",
   "execution_count": 19,
   "metadata": {},
   "outputs": [],
   "source": [
    "dict_mean = {}\n",
    "for i,j in dict1.items():\n",
    "    dict_mean[i] = (np.mean(j),len(j))"
   ]
  },
  {
   "cell_type": "code",
   "execution_count": 20,
   "metadata": {},
   "outputs": [],
   "source": [
    "mean_percentage_protein = pd.DataFrame.from_dict(dict_mean,orient='index')"
   ]
  },
  {
   "cell_type": "code",
   "execution_count": 21,
   "metadata": {},
   "outputs": [],
   "source": [
    "no_comments = pd.DataFrame(data['number_of_comments'].str.strip('TIPS').astype(int)).reset_index()"
   ]
  },
  {
   "cell_type": "code",
   "execution_count": 22,
   "metadata": {},
   "outputs": [],
   "source": [
    "no_comments['comments_rank'] = no_comments['number_of_comments'].rank(ascending=False,method = 'first')"
   ]
  },
  {
   "cell_type": "code",
   "execution_count": 23,
   "metadata": {},
   "outputs": [],
   "source": [
    "df = pd.merge(nutrition_tags,no_comments, on = 'index',how = 'inner')"
   ]
  },
  {
   "cell_type": "markdown",
   "metadata": {},
   "source": [
    "## EDA "
   ]
  },
  {
   "cell_type": "code",
   "execution_count": 24,
   "metadata": {},
   "outputs": [
    {
     "data": {
      "text/plain": [
       "1915"
      ]
     },
     "execution_count": 24,
     "metadata": {},
     "output_type": "execute_result"
    }
   ],
   "source": [
    "len(df) # number of recipes"
   ]
  },
  {
   "cell_type": "code",
   "execution_count": 25,
   "metadata": {},
   "outputs": [
    {
     "data": {
      "text/plain": [
       "204710"
      ]
     },
     "execution_count": 25,
     "metadata": {},
     "output_type": "execute_result"
    }
   ],
   "source": [
    "df['number_of_comments'].sum() # total number of comments"
   ]
  },
  {
   "cell_type": "code",
   "execution_count": 26,
   "metadata": {},
   "outputs": [
    {
     "data": {
      "text/plain": [
       "106.8981723237598"
      ]
     },
     "execution_count": 26,
     "metadata": {},
     "output_type": "execute_result"
    }
   ],
   "source": [
    "df['number_of_comments'].mean() # average number of comments per recipe"
   ]
  },
  {
   "cell_type": "code",
   "execution_count": 27,
   "metadata": {},
   "outputs": [],
   "source": [
    "sett = set()\n",
    "for i in df['ingredient_annotations']:\n",
    "    for j in i:\n",
    "        sett.add(j)"
   ]
  },
  {
   "cell_type": "code",
   "execution_count": 28,
   "metadata": {},
   "outputs": [
    {
     "data": {
      "text/plain": [
       "941"
      ]
     },
     "execution_count": 28,
     "metadata": {},
     "output_type": "execute_result"
    }
   ],
   "source": [
    "len(sett) # total number of distinct ingredients"
   ]
  },
  {
   "cell_type": "code",
   "execution_count": 29,
   "metadata": {},
   "outputs": [
    {
     "data": {
      "text/plain": [
       "13.855874673629243"
      ]
     },
     "execution_count": 29,
     "metadata": {},
     "output_type": "execute_result"
    }
   ],
   "source": [
    "df['Ingredients Count'].mean() # average number of ingredients per recipe"
   ]
  },
  {
   "cell_type": "code",
   "execution_count": 30,
   "metadata": {},
   "outputs": [
    {
     "data": {
      "text/plain": [
       "91.93577023498695"
      ]
     },
     "execution_count": 30,
     "metadata": {},
     "output_type": "execute_result"
    }
   ],
   "source": [
    "df['rating'].astype(int).mean() # average rating per recipe"
   ]
  },
  {
   "cell_type": "code",
   "execution_count": 31,
   "metadata": {},
   "outputs": [],
   "source": [
    "sett_2 = set()\n",
    "for i in df['tags']:\n",
    "    for j in i:\n",
    "        sett_2.add(j)"
   ]
  },
  {
   "cell_type": "code",
   "execution_count": 32,
   "metadata": {},
   "outputs": [
    {
     "data": {
      "text/plain": [
       "199"
      ]
     },
     "execution_count": 32,
     "metadata": {},
     "output_type": "execute_result"
    }
   ],
   "source": [
    "len(sett_2)"
   ]
  },
  {
   "cell_type": "code",
   "execution_count": 33,
   "metadata": {},
   "outputs": [
    {
     "data": {
      "text/plain": [
       "20.606788511749347"
      ]
     },
     "execution_count": 33,
     "metadata": {},
     "output_type": "execute_result"
    }
   ],
   "source": [
    "df['Tags Count'].mean() # average number of tags per recipe"
   ]
  },
  {
   "cell_type": "code",
   "execution_count": 34,
   "metadata": {},
   "outputs": [],
   "source": [
    "sett_2 = set()\n",
    "for i in df['tags']:\n",
    "    for j in i:\n",
    "        sett_2.add(j)"
   ]
  },
  {
   "cell_type": "code",
   "execution_count": 35,
   "metadata": {},
   "outputs": [
    {
     "data": {
      "text/plain": [
       "199"
      ]
     },
     "execution_count": 35,
     "metadata": {},
     "output_type": "execute_result"
    }
   ],
   "source": [
    "len(sett_2)"
   ]
  },
  {
   "cell_type": "code",
   "execution_count": 36,
   "metadata": {},
   "outputs": [
    {
     "data": {
      "text/plain": [
       "583.8433420365535"
      ]
     },
     "execution_count": 36,
     "metadata": {},
     "output_type": "execute_result"
    }
   ],
   "source": [
    "df['Calories'].astype(int).mean() # average calories per recipe"
   ]
  },
  {
   "cell_type": "code",
   "execution_count": 37,
   "metadata": {},
   "outputs": [
    {
     "data": {
      "text/plain": [
       "0.3370095475520622"
      ]
     },
     "execution_count": 37,
     "metadata": {},
     "output_type": "execute_result"
    }
   ],
   "source": [
    "df['Carbs/Calories'].mean() # average percentage of carbs in calories per recipe"
   ]
  },
  {
   "cell_type": "code",
   "execution_count": 38,
   "metadata": {},
   "outputs": [
    {
     "data": {
      "text/plain": [
       "0.1942643095435878"
      ]
     },
     "execution_count": 38,
     "metadata": {},
     "output_type": "execute_result"
    }
   ],
   "source": [
    "df['Fat/Calories'].mean() # average percentage of fat in calories per recipe"
   ]
  },
  {
   "cell_type": "code",
   "execution_count": 39,
   "metadata": {},
   "outputs": [
    {
     "data": {
      "text/plain": [
       "0.13291731863246503"
      ]
     },
     "execution_count": 39,
     "metadata": {},
     "output_type": "execute_result"
    }
   ],
   "source": [
    "df['Fiber/Calories'].mean() # average percentage of fiber in calories per recipe"
   ]
  },
  {
   "cell_type": "code",
   "execution_count": 40,
   "metadata": {},
   "outputs": [
    {
     "data": {
      "text/plain": [
       "0.10855446175082618"
      ]
     },
     "execution_count": 40,
     "metadata": {},
     "output_type": "execute_result"
    }
   ],
   "source": [
    "df['Proteins/Calories'].mean() # average percentage of protein in calories per recipe"
   ]
  },
  {
   "cell_type": "code",
   "execution_count": 41,
   "metadata": {},
   "outputs": [
    {
     "data": {
      "text/plain": [
       "0.07642061161434271"
      ]
     },
     "execution_count": 41,
     "metadata": {},
     "output_type": "execute_result"
    }
   ],
   "source": [
    "df['Sugar/Calories'].mean() # average percentage of sugar in calories per recipe"
   ]
  },
  {
   "cell_type": "markdown",
   "metadata": {},
   "source": [
    "## Separate DFs (for analysis of ingredients and tags in Tableau)"
   ]
  },
  {
   "cell_type": "code",
   "execution_count": 42,
   "metadata": {},
   "outputs": [],
   "source": [
    "ingredients = [j for i in df['ingredient_annotations'] for j in i]"
   ]
  },
  {
   "cell_type": "code",
   "execution_count": 43,
   "metadata": {},
   "outputs": [],
   "source": [
    "ingredients_df = pd.DataFrame.from_dict(dict(Counter(ingredients)),orient = 'index').rename(columns = {0:'Count'}).sort_values(by='Count',ascending = False)"
   ]
  },
  {
   "cell_type": "code",
   "execution_count": 44,
   "metadata": {},
   "outputs": [],
   "source": [
    "tags = [j for i in df['tags'] for j in i]"
   ]
  },
  {
   "cell_type": "code",
   "execution_count": 45,
   "metadata": {},
   "outputs": [],
   "source": [
    "tags_df = pd.DataFrame.from_dict(dict(Counter(tags)),orient = 'index').rename(columns = {0:'Count'}).sort_values(by='Count',ascending = False)"
   ]
  },
  {
   "cell_type": "markdown",
   "metadata": {},
   "source": [
    "## Spearman Correlation Test"
   ]
  },
  {
   "cell_type": "code",
   "execution_count": 46,
   "metadata": {},
   "outputs": [],
   "source": [
    "\n",
    "fat_corr = stats.spearmanr(df['rating'].apply(pd.to_numeric,errors = 'coerce'),df['Fat/Calories'])\n",
    "carbs_corr = stats.spearmanr(df['rating'].apply(pd.to_numeric,errors = 'coerce'),df['Carbs/Calories'])\n",
    "fiber_corr = stats.spearmanr(df['rating'].apply(pd.to_numeric,errors = 'coerce'),df['Fiber/Calories'])\n",
    "sugar_corr = stats.spearmanr(df['rating'].apply(pd.to_numeric,errors = 'coerce'),df['Sugar/Calories'])\n",
    "protein_corr = stats.spearmanr(df['rating'].apply(pd.to_numeric,errors = 'coerce'),df['Proteins/Calories'])\n",
    "calories_corr = stats.spearmanr(df['rating'].apply(pd.to_numeric,errors = 'coerce'),df['Calories'])"
   ]
  },
  {
   "cell_type": "code",
   "execution_count": 47,
   "metadata": {},
   "outputs": [
    {
     "data": {
      "text/plain": [
       "SignificanceResult(statistic=0.07351171807753841, pvalue=0.0012855735557481865)"
      ]
     },
     "execution_count": 47,
     "metadata": {},
     "output_type": "execute_result"
    }
   ],
   "source": [
    "fat_corr"
   ]
  },
  {
   "cell_type": "code",
   "execution_count": 48,
   "metadata": {},
   "outputs": [
    {
     "data": {
      "text/plain": [
       "SignificanceResult(statistic=-0.14245883753707664, pvalue=3.8008952106756696e-10)"
      ]
     },
     "execution_count": 48,
     "metadata": {},
     "output_type": "execute_result"
    }
   ],
   "source": [
    "carbs_corr"
   ]
  },
  {
   "cell_type": "code",
   "execution_count": 49,
   "metadata": {},
   "outputs": [
    {
     "data": {
      "text/plain": [
       "SignificanceResult(statistic=-0.03526959149122147, pvalue=0.1228563208672871)"
      ]
     },
     "execution_count": 49,
     "metadata": {},
     "output_type": "execute_result"
    }
   ],
   "source": [
    "fiber_corr"
   ]
  },
  {
   "cell_type": "code",
   "execution_count": 50,
   "metadata": {},
   "outputs": [
    {
     "data": {
      "text/plain": [
       "SignificanceResult(statistic=-0.02819794788942805, pvalue=0.21742587582378411)"
      ]
     },
     "execution_count": 50,
     "metadata": {},
     "output_type": "execute_result"
    }
   ],
   "source": [
    "sugar_corr"
   ]
  },
  {
   "cell_type": "code",
   "execution_count": 51,
   "metadata": {},
   "outputs": [
    {
     "data": {
      "text/plain": [
       "SignificanceResult(statistic=0.14280910151332282, pvalue=3.439534705107723e-10)"
      ]
     },
     "execution_count": 51,
     "metadata": {},
     "output_type": "execute_result"
    }
   ],
   "source": [
    "protein_corr"
   ]
  },
  {
   "cell_type": "code",
   "execution_count": 52,
   "metadata": {},
   "outputs": [
    {
     "data": {
      "text/plain": [
       "SignificanceResult(statistic=0.03896946193736873, pvalue=0.08821950478308285)"
      ]
     },
     "execution_count": 52,
     "metadata": {},
     "output_type": "execute_result"
    }
   ],
   "source": [
    "calories_corr"
   ]
  },
  {
   "cell_type": "markdown",
   "metadata": {},
   "source": [
    "## Exports"
   ]
  },
  {
   "cell_type": "code",
   "execution_count": 53,
   "metadata": {},
   "outputs": [],
   "source": [
    "#ingredients_df.to_csv('../../Data/vizualizations/ingredients_df_main.csv')\n",
    "#tags_df.to_csv('../../Data/vizualizations/tags_df_main.csv')\n",
    "#df.to_csv('../../Data/vizualizations/main_viz.csv',index = False)\n",
    "#mean_percentage_protein.to_csv('../../Data/vizualizations/mean_percentage_protein.csv')"
   ]
  }
 ],
 "metadata": {
  "kernelspec": {
   "display_name": "base",
   "language": "python",
   "name": "python3"
  },
  "language_info": {
   "codemirror_mode": {
    "name": "ipython",
    "version": 3
   },
   "file_extension": ".py",
   "mimetype": "text/x-python",
   "name": "python",
   "nbconvert_exporter": "python",
   "pygments_lexer": "ipython3",
   "version": "3.10.13"
  },
  "orig_nbformat": 4
 },
 "nbformat": 4,
 "nbformat_minor": 2
}
