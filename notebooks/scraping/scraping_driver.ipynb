{
 "cells": [
  {
   "cell_type": "markdown",
   "metadata": {},
   "source": [
    "## README\n",
    "This notebook represents the skeleton of the developed scraper and all cells have to be ran manually. However, if you'd like to see our ready-to-be-cloud-deployed scraper, check the scraper.py file."
   ]
  },
  {
   "cell_type": "code",
   "execution_count": 1,
   "metadata": {},
   "outputs": [],
   "source": [
    "from selenium import webdriver\n",
    "from selenium.webdriver.common.keys import Keys\n",
    "from selenium.webdriver.common.by import By\n",
    "from selenium.common.exceptions import NoSuchElementException, ElementClickInterceptedException\n",
    "from selenium.webdriver.common.action_chains import ActionChains\n",
    "import json\n",
    "import time\n",
    "import sys\n",
    "sys.path.append(\"../../src\")\n",
    "import scraping as f # Custom functions file containing all of the functions needed for this notebook"
   ]
  },
  {
   "cell_type": "markdown",
   "metadata": {},
   "source": [
    "## Initialization Parameters\n",
    "In this section there are some parameters that we used for scraping. The link represents the category we've decided to scrape."
   ]
  },
  {
   "cell_type": "code",
   "execution_count": 2,
   "metadata": {},
   "outputs": [],
   "source": [
    "driver = webdriver.Chrome()\n",
    "driver.set_page_load_timeout(500)\n",
    "link = \"https://tasty.co/tag/dinner\" "
   ]
  },
  {
   "cell_type": "markdown",
   "metadata": {},
   "source": [
    "## Getting URLs\n",
    "In this step, we scrape all the links in the recipe category called Dinner as seen in the variable link above."
   ]
  },
  {
   "cell_type": "code",
   "execution_count": null,
   "metadata": {},
   "outputs": [],
   "source": [
    "f.get_urls(driver,link)"
   ]
  },
  {
   "cell_type": "markdown",
   "metadata": {},
   "source": [
    "## Creating Link Queue\n",
    "In this step, we create a link queue, so that in case the scraper breaks, we can continue from the latest scraped link"
   ]
  },
  {
   "cell_type": "code",
   "execution_count": null,
   "metadata": {},
   "outputs": [],
   "source": [
    "f.create_link_queue('../../data/interim/scraping/links.txt')"
   ]
  },
  {
   "cell_type": "markdown",
   "metadata": {},
   "source": [
    "## Getting Images\n",
    "Here we are scraping the recipe images."
   ]
  },
  {
   "cell_type": "code",
   "execution_count": null,
   "metadata": {},
   "outputs": [],
   "source": [
    "f.get_images(driver)"
   ]
  },
  {
   "cell_type": "markdown",
   "metadata": {},
   "source": [
    "## Scraping\n",
    "In this step, we are going into all the recipe links scraped and we are scraping the following:\n",
    "\n",
    "- Ingredients\n",
    "- Nutritional info\n",
    "- Preparation steps\n",
    "- Last edited date\n",
    "- Rating\n",
    "- Tags\n",
    "- Number of comments\n",
    "- Comments\n",
    "\n",
    "NB: This scraping code does not work anymore --- They changed the layout of their website somewhat, so the comments don't scrape"
   ]
  },
  {
   "cell_type": "code",
   "execution_count": 5,
   "metadata": {},
   "outputs": [
    {
     "name": "stdout",
     "output_type": "stream",
     "text": [
      "Processing recipe: https://tasty.co/recipe/chicken-spanakopita-pie\n",
      "\tGetting ingredients...\n",
      "\tGetting nutrition...\n",
      "\tGetting preparation...\n",
      "\tGetting date...\n",
      "\tGetting rating...\n",
      "\tGetting tags...\n",
      "\tGetting number of comments...\n",
      "\tGetting comments...\n",
      "{'ingredients': ['4 boneless, skinless chicken breasts', 'salt, to taste', 'pepper, to taste', '4 cloves garlic, minced', '1 tablespoon greek oregano', '2 tablespoons olive oil', '½ cup ricotta cheese (125 g)', '2 cups frozen spinach (80 g), thawed, chopped', '1 cup feta cheese (115 g), crumbled', '½ cup green onion (75 g), chopped', '2 eggs, beaten', '2 tablespoons fresh dill, chopped', '1 package phyllo dough', '1 cup butter (230 g), melted', '1 cup red onion (150 g), diced', '½ cup kalamata olive (130 g), chopped', '1 cup tomato (200 g), diced'], 'nutrition': ['Calories 575', 'Fat 42g', 'Carbs 12g', 'Fiber 2g', 'Sugar 4g', 'Protein 35g'], 'preparation': ['Season the chicken breasts with the salt, pepper, garlic, greek oregano, and olive oil.', 'Place the chicken breasts in a large skillet on medium-high heat with a tablespoon of oil. Cook until the first side is a dark golden brown, about 5 minutes. Flip the chicken and cook the other side until equally brown, about 5 minutes. Turn the heat to low and cook the chicken until it’s cooked through about 10 more minutes. Set the chicken aside to cool and then slice it.', 'Preheat oven to 400°F (200°C).', 'To a bowl, add the ricotta, chopped frozen spinach, feta cheese, chopped green onion, beaten eggs, dill, and pepper, and stir to combine.', 'Place the butter into a large shallow dish. Take about 5 sheets of the thin phyllo dough and dip it in the butter.', 'Place the buttered phyllo into a 9 inch (23 cm) springform pan. Make sure the dough complete covers the sides and hangs over the edges of the pan. Use as many sheets as needed to create a even layer all around.', 'Spread half of the feta spinach mixture on the bottom of the springform pan on top of the phyllo dough. Shingle one layer of the sliced cooked chicken, and spread the other half of the spinach feta mixture. Make sure each layer is tightly pressed.', 'Place the chopped tomatoes on the outer rim of the pie. Place a ring of chopped red onion, and then place chopped kalamata olives in the center.', 'Fold the phyllo dough from the edges of the pan to the center and cover the top of the pie with 3 more batches of buttered phyllo.', 'Cover the pie with aluminum foil and bake for 1 hour. Remove the aluminum foil cover and cook for about 20 more minutes, until the top is golden brown.', 'Let rest at room temperature for at least 30 minutes.', 'Remove the pie from the springform pan, slice, and serve.', 'Enjoy!', \"Don't let a good recipe slip away. Download the Tasty app and save your favorites for easy access.\"], 'date': 'May 05, 2023', 'rating': '95', 'tags': ['Cuisine', 'European', 'Mediterranean', 'Chicken', 'High-Fiber', 'Low-Sugar', 'High-Protein', 'Keto', 'Under 1 Hour', 'Special Occasion', 'Stuffed', 'Stove Top', 'Cast Iron Pan', 'Baking', 'Dinner', 'Low-Carb', 'Comfort Food'], 'number_of_comments': '0 TIPS', 'comments': []}\n"
     ]
    }
   ],
   "source": [
    "with open('../../data/interim/scraping/has_scraped.json') as json_file:\n",
    "    links = json.load(json_file)\n",
    "\n",
    "d = dict()\n",
    "for link, has_scaped in links.items():\n",
    "    if has_scaped == True:\n",
    "        continue\n",
    "    print(f'Processing recipe: {link}')\n",
    "    driver.get(link)\n",
    "    if f.page_exists(driver):\n",
    "        print(\"page doesn't exist\")\n",
    "        time.sleep(5)\n",
    "        continue\n",
    "\n",
    "    try:\n",
    "        cookie = driver.find_element(By.ID,'onetrust-accept-btn-handler')\n",
    "        cookie.click()\n",
    "    except NoSuchElementException:\n",
    "        pass\n",
    "\n",
    "    print('\\tGetting ingredients...')\n",
    "    ingredients = [i.text for i in driver.find_elements(By.CLASS_NAME,'ingredient')]\n",
    "    print('\\tGetting nutrition...')\n",
    "    nutrition = f.grab_nutrition(driver)\n",
    "    print('\\tGetting preparation...')\n",
    "    preparation = f.grab_preparation(driver)\n",
    "    print('\\tGetting date...')\n",
    "    date = f.grab_date(driver)\n",
    "    print('\\tGetting rating...')\n",
    "    rating = f.grab_recipe_rating(driver)\n",
    "    print('\\tGetting tags...')\n",
    "    try:\n",
    "        tags = f.get_tags(driver)\n",
    "    except NoSuchElementException:\n",
    "        pass\n",
    "    print('\\tGetting number of comments...')\n",
    "    try: \n",
    "        number_of_comments = driver.find_element(By.CLASS_NAME,'tips-count-heading').text\n",
    "    except NoSuchElementException:\n",
    "        number_of_comments = \"0 TIPS\"\n",
    "    print('\\tGetting comments...')\n",
    "    if number_of_comments != \"0 TIPS\":\n",
    "        comments = f.grab_comments(driver)\n",
    "    else:\n",
    "        comments = []\n",
    "    \n",
    "    d = {'ingredients': ingredients,\n",
    "                            'nutrition': nutrition,\n",
    "                            'preparation': preparation,\n",
    "                            'date': date,\n",
    "                            'rating': rating,\n",
    "                            'tags': tags,\n",
    "                            'number_of_comments': number_of_comments,\n",
    "                            'comments': comments}\n",
    "    \n",
    "    f.save_and_remove_from_queue(link, d)\n",
    "    time.sleep(5)\n"
   ]
  },
  {
   "cell_type": "markdown",
   "metadata": {},
   "source": [
    "## Ending the Scraping"
   ]
  },
  {
   "cell_type": "code",
   "execution_count": 6,
   "metadata": {},
   "outputs": [
    {
     "ename": "WebDriverException",
     "evalue": "Message: disconnected: not connected to DevTools\n  (failed to check if window was closed: disconnected: not connected to DevTools)\n  (Session info: chrome=120.0.6099.71)\nStacktrace:\n\tGetHandleVerifier [0x00007FF72E3B4D02+56194]\n\t(No symbol) [0x00007FF72E3204B2]\n\t(No symbol) [0x00007FF72E1C76AA]\n\t(No symbol) [0x00007FF72E1AE1E9]\n\t(No symbol) [0x00007FF72E1AF7CE]\n\t(No symbol) [0x00007FF72E1C7CC3]\n\t(No symbol) [0x00007FF72E1A0580]\n\t(No symbol) [0x00007FF72E242D41]\n\t(No symbol) [0x00007FF72E235E40]\n\t(No symbol) [0x00007FF72E204A45]\n\t(No symbol) [0x00007FF72E205AD4]\n\tGetHandleVerifier [0x00007FF72E72D5BB+3695675]\n\tGetHandleVerifier [0x00007FF72E786197+4059159]\n\tGetHandleVerifier [0x00007FF72E77DF63+4025827]\n\tGetHandleVerifier [0x00007FF72E44F029+687785]\n\t(No symbol) [0x00007FF72E32B508]\n\t(No symbol) [0x00007FF72E327564]\n\t(No symbol) [0x00007FF72E3276E9]\n\t(No symbol) [0x00007FF72E318094]\n\tBaseThreadInitThunk [0x00007FFBDB217344+20]\n\tRtlUserThreadStart [0x00007FFBDD0626B1+33]\n",
     "output_type": "error",
     "traceback": [
      "\u001b[1;31m---------------------------------------------------------------------------\u001b[0m",
      "\u001b[1;31mWebDriverException\u001b[0m                        Traceback (most recent call last)",
      "Cell \u001b[1;32mIn[6], line 1\u001b[0m\n\u001b[1;32m----> 1\u001b[0m \u001b[43mdriver\u001b[49m\u001b[38;5;241;43m.\u001b[39;49m\u001b[43mclose\u001b[49m\u001b[43m(\u001b[49m\u001b[43m)\u001b[49m\n",
      "File \u001b[1;32mc:\\Users\\Bruger\\Code\\School\\Data_Wrangling\\data-inthewild\\new_env\\lib\\site-packages\\selenium\\webdriver\\remote\\webdriver.py:459\u001b[0m, in \u001b[0;36mWebDriver.close\u001b[1;34m(self)\u001b[0m\n\u001b[0;32m    451\u001b[0m \u001b[38;5;28;01mdef\u001b[39;00m \u001b[38;5;21mclose\u001b[39m(\u001b[38;5;28mself\u001b[39m) \u001b[38;5;241m-\u001b[39m\u001b[38;5;241m>\u001b[39m \u001b[38;5;28;01mNone\u001b[39;00m:\n\u001b[0;32m    452\u001b[0m \u001b[38;5;250m    \u001b[39m\u001b[38;5;124;03m\"\"\"Closes the current window.\u001b[39;00m\n\u001b[0;32m    453\u001b[0m \n\u001b[0;32m    454\u001b[0m \u001b[38;5;124;03m    :Usage:\u001b[39;00m\n\u001b[1;32m   (...)\u001b[0m\n\u001b[0;32m    457\u001b[0m \u001b[38;5;124;03m            driver.close()\u001b[39;00m\n\u001b[0;32m    458\u001b[0m \u001b[38;5;124;03m    \"\"\"\u001b[39;00m\n\u001b[1;32m--> 459\u001b[0m     \u001b[38;5;28;43mself\u001b[39;49m\u001b[38;5;241;43m.\u001b[39;49m\u001b[43mexecute\u001b[49m\u001b[43m(\u001b[49m\u001b[43mCommand\u001b[49m\u001b[38;5;241;43m.\u001b[39;49m\u001b[43mCLOSE\u001b[49m\u001b[43m)\u001b[49m\n",
      "File \u001b[1;32mc:\\Users\\Bruger\\Code\\School\\Data_Wrangling\\data-inthewild\\new_env\\lib\\site-packages\\selenium\\webdriver\\remote\\webdriver.py:348\u001b[0m, in \u001b[0;36mWebDriver.execute\u001b[1;34m(self, driver_command, params)\u001b[0m\n\u001b[0;32m    346\u001b[0m response \u001b[38;5;241m=\u001b[39m \u001b[38;5;28mself\u001b[39m\u001b[38;5;241m.\u001b[39mcommand_executor\u001b[38;5;241m.\u001b[39mexecute(driver_command, params)\n\u001b[0;32m    347\u001b[0m \u001b[38;5;28;01mif\u001b[39;00m response:\n\u001b[1;32m--> 348\u001b[0m     \u001b[38;5;28;43mself\u001b[39;49m\u001b[38;5;241;43m.\u001b[39;49m\u001b[43merror_handler\u001b[49m\u001b[38;5;241;43m.\u001b[39;49m\u001b[43mcheck_response\u001b[49m\u001b[43m(\u001b[49m\u001b[43mresponse\u001b[49m\u001b[43m)\u001b[49m\n\u001b[0;32m    349\u001b[0m     response[\u001b[38;5;124m\"\u001b[39m\u001b[38;5;124mvalue\u001b[39m\u001b[38;5;124m\"\u001b[39m] \u001b[38;5;241m=\u001b[39m \u001b[38;5;28mself\u001b[39m\u001b[38;5;241m.\u001b[39m_unwrap_value(response\u001b[38;5;241m.\u001b[39mget(\u001b[38;5;124m\"\u001b[39m\u001b[38;5;124mvalue\u001b[39m\u001b[38;5;124m\"\u001b[39m, \u001b[38;5;28;01mNone\u001b[39;00m))\n\u001b[0;32m    350\u001b[0m     \u001b[38;5;28;01mreturn\u001b[39;00m response\n",
      "File \u001b[1;32mc:\\Users\\Bruger\\Code\\School\\Data_Wrangling\\data-inthewild\\new_env\\lib\\site-packages\\selenium\\webdriver\\remote\\errorhandler.py:229\u001b[0m, in \u001b[0;36mErrorHandler.check_response\u001b[1;34m(self, response)\u001b[0m\n\u001b[0;32m    227\u001b[0m         alert_text \u001b[38;5;241m=\u001b[39m value[\u001b[38;5;124m\"\u001b[39m\u001b[38;5;124malert\u001b[39m\u001b[38;5;124m\"\u001b[39m]\u001b[38;5;241m.\u001b[39mget(\u001b[38;5;124m\"\u001b[39m\u001b[38;5;124mtext\u001b[39m\u001b[38;5;124m\"\u001b[39m)\n\u001b[0;32m    228\u001b[0m     \u001b[38;5;28;01mraise\u001b[39;00m exception_class(message, screen, stacktrace, alert_text)  \u001b[38;5;66;03m# type: ignore[call-arg]  # mypy is not smart enough here\u001b[39;00m\n\u001b[1;32m--> 229\u001b[0m \u001b[38;5;28;01mraise\u001b[39;00m exception_class(message, screen, stacktrace)\n",
      "\u001b[1;31mWebDriverException\u001b[0m: Message: disconnected: not connected to DevTools\n  (failed to check if window was closed: disconnected: not connected to DevTools)\n  (Session info: chrome=120.0.6099.71)\nStacktrace:\n\tGetHandleVerifier [0x00007FF72E3B4D02+56194]\n\t(No symbol) [0x00007FF72E3204B2]\n\t(No symbol) [0x00007FF72E1C76AA]\n\t(No symbol) [0x00007FF72E1AE1E9]\n\t(No symbol) [0x00007FF72E1AF7CE]\n\t(No symbol) [0x00007FF72E1C7CC3]\n\t(No symbol) [0x00007FF72E1A0580]\n\t(No symbol) [0x00007FF72E242D41]\n\t(No symbol) [0x00007FF72E235E40]\n\t(No symbol) [0x00007FF72E204A45]\n\t(No symbol) [0x00007FF72E205AD4]\n\tGetHandleVerifier [0x00007FF72E72D5BB+3695675]\n\tGetHandleVerifier [0x00007FF72E786197+4059159]\n\tGetHandleVerifier [0x00007FF72E77DF63+4025827]\n\tGetHandleVerifier [0x00007FF72E44F029+687785]\n\t(No symbol) [0x00007FF72E32B508]\n\t(No symbol) [0x00007FF72E327564]\n\t(No symbol) [0x00007FF72E3276E9]\n\t(No symbol) [0x00007FF72E318094]\n\tBaseThreadInitThunk [0x00007FFBDB217344+20]\n\tRtlUserThreadStart [0x00007FFBDD0626B1+33]\n"
     ]
    }
   ],
   "source": [
    "driver.close()"
   ]
  },
  {
   "cell_type": "code",
   "execution_count": null,
   "metadata": {},
   "outputs": [],
   "source": []
  }
 ],
 "metadata": {
  "kernelspec": {
   "display_name": "base",
   "language": "python",
   "name": "python3"
  },
  "language_info": {
   "codemirror_mode": {
    "name": "ipython",
    "version": 3
   },
   "file_extension": ".py",
   "mimetype": "text/x-python",
   "name": "python",
   "nbconvert_exporter": "python",
   "pygments_lexer": "ipython3",
   "version": "3.10.11"
  },
  "orig_nbformat": 4
 },
 "nbformat": 4,
 "nbformat_minor": 2
}
