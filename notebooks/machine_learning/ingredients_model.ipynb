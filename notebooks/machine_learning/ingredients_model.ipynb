{
 "cells": [
  {
   "cell_type": "code",
   "execution_count": 1,
   "metadata": {},
   "outputs": [],
   "source": [
    "from sklearn.linear_model import RidgeClassifier, RidgeClassifierCV\n",
    "\n",
    "from sklearn.model_selection import train_test_split\n",
    "from sklearn.preprocessing import MultiLabelBinarizer\n",
    "\n",
    "from sklearn.metrics import f1_score\n",
    "\n",
    "import json\n",
    "import pandas as pd\n",
    "\n",
    "from collections import Counter"
   ]
  },
  {
   "cell_type": "code",
   "execution_count": 2,
   "metadata": {},
   "outputs": [],
   "source": [
    "FILE_PATH = '../../data/processed/data.json'\n",
    "\n",
    "with open(FILE_PATH, 'r', encoding='utf-8') as f:\n",
    "    data = json.load(f)"
   ]
  },
  {
   "cell_type": "code",
   "execution_count": 3,
   "metadata": {},
   "outputs": [],
   "source": [
    "X, y = zip(*[(key, recipe['geographical_tags_updated']) for key, recipe in data.items()])"
   ]
  },
  {
   "cell_type": "code",
   "execution_count": 4,
   "metadata": {},
   "outputs": [],
   "source": [
    "X_train_index, X_test_index, y_train, y_test = train_test_split(X, y, random_state=44)"
   ]
  },
  {
   "cell_type": "code",
   "execution_count": 5,
   "metadata": {},
   "outputs": [],
   "source": [
    "X_train = []\n",
    "X_test = []\n",
    "for i in X_train_index:\n",
    "    X_train.append(data[i]['ingredient_annotations'])\n",
    "for j in X_test_index:\n",
    "    X_test.append(data[j]['ingredient_annotations'])"
   ]
  },
  {
   "cell_type": "code",
   "execution_count": 6,
   "metadata": {},
   "outputs": [
    {
     "name": "stderr",
     "output_type": "stream",
     "text": [
      "C:\\Users\\Bruger\\AppData\\Local\\Packages\\PythonSoftwareFoundation.Python.3.10_qbz5n2kfra8p0\\LocalCache\\local-packages\\Python310\\site-packages\\sklearn\\preprocessing\\_label.py:900: UserWarning: unknown class(es) ['1/8', '14x18', '25', '4', 'aaan', 'achari chicken', 'ajika', 'aloo', 'annatto paste', 'arbol chile', 'arhar', 'arturo sauce', 'atlantic salmon', 'bagel', 'baking powder', 'balsamic reduction', 'bamboo shoot', 'banana ketchup', 'basil pesto or sauce', 'beef carpaccio', 'beef gravy', 'beef patty', 'belly', 'blanco', 'braising steak', 'brandy or cognac', 'bread bowl', 'brioche burger bun', 'brioche hamburger bun', 'brown butter', 'bulleit bourbon', 'bun burger bun', 'bush ’s ® original baked beans', 'butter chicken', 'cabot vermont', 'caesar', 'calamansi juice', 'campbell ’s ® tomato', 'canadian bacon', 'candy cane', 'caper brine', 'cat', 'catnip', 'celery seed', 'chamoy', 'charcoal', 'cheddar biscuit mix', 'cheese doritos', 'cheese sauce', 'chihuahua', 'chili garlic paste', 'chimichurri', 'chinese broccoli', 'chipotle chile', 'chipotle sauce', 'chipotle tabasco sauce', 'choco pie', 'chocolate chip cookie', 'chuck', 'ciabatta roll', 'cilantro rice', 'clove garlic', 'coleslaw mix', 'cooketicky rice', 'cooking oil spray', 'coppa', 'corn taco', 'couscous', 'cow', 'crescent dough', 'crème', 'curry sauce', 'daisy sour cream', 'dark raisin', 'dark rum', 'datu puti', 'dowel', 'dry quinoa', 'egg wash', 'european', 'fajita sauce', 'filipino', 'fish seasoning', 'fisher ®', 'flakes', 'flower', 'food', 'food scale', 'frank ’s hot sauce', 'frank ’s ® buffalo sauce', 'french green bean', 'french onion', 'fried onions', 'fried shallot', 'fruit', 'fryer', 'garlic alfredo sauce', 'garlic edamame', 'garlic salt', 'garlic sauce', 'garnicia', 'garnishg', 'garnishtorn', 'gemeli pasta', 'glass', 'glue', 'golden breadcrumb', 'grape juice', 'grapefruit soda', 'greek feta', 'green lettuce', 'green papaya', 'ground pork', 'guinness extra stout', 'halloween', 'hass avocado', 'havarti cheese', 'herb seasoning', 'hibiscus', 'hoagie', 'homemade breadcrumb', 'hominy', 'hummu', 'huy fong foods', 'inch', 'italian salad', 'italian sausage', 'japanese curry paste', 'japones chile', 'joint', 'jufran', 'kachumber', 'kaffir lime', 'kani', 'kashmiri', 'kebab', 'kraft ® deluxe macaroni', 'lamb chop', 'large orange', 'lauriat', 'leafy green', 'lime peel', 'lime sauce', 'link sausage', 'lollipop stick', 'machsticks', 'manchego cheese', 'mandarin orange slice', 'mango nectar', 'manwich sauce', 'marca', 'margarine', 'martin brand', 'masoor ki dal', 'mayoketchup', 'mccormick ® brown', 'mccormick ® fajita', 'mccormick ® grill', 'mccormick ® hearty spice blend', 'mccormick ® perfect', 'meat chicken', 'medjool', 'mexico chile', 'mezcal', 'milk ricotta', 'mini marshmallow', 'mint sprig', 'mixed pepper', 'mochi', 'mortadella', 'mung lentils', 'new york', 'oaxaca queso', 'octopu', 'onion dip mix', 'onion raita', 'organic chickpea', 'organic ketchup', 'oscar mayer ®', 'panda cooky', 'pandan', 'papaya', 'pappardelle noodle', 'parker house', 'parsley flake', 'pastina', 'patty', 'peanut butter cereal', 'peperoncini', 'peppercorns', 'pepperoni slice', 'petal', 'pickled', 'pickled chily', 'pickled pepperoncinis', 'pillsbury', 'pineapple cake', 'pink food', 'pinot grigio', 'plum', 'pork mince', 'potato flour', 'poultry', 'poultry rub', 'powder , with saffron', 'pretzel bun', 'prune', 'pt ale', 'purple sparkling sugar', 'puréed', 'radishes', 'raita', 'red chilli soybean paste', 'refrigerated biscuit', 'reserved cooking', 'rice pulao', 'ritz cracker', 'rosemary sprig', 'rump steak', 'rye sandwich bread', 'rye whiskey', 'san marzano tomato', 'sandwich pickle', 'sausages', 'sazon', 'scraper', 'seeded', 'seltzer', 'sesame seed bun', 'shelled edamame', 'sherry wine', 'siracha', 'slice sandwich bread', 'sliced carrot', 'sliced radish', 'small eggplant', 'smith apple', 'smoky spice', 'snap pea', 'sopressata', 'spaghetti sauce', 'spanish rice', 'squid ink', 'starter', 'stelline', 'sticky rice', 'stock', 'suerkraut', 'sugar cookie dough', 'sumac spice', 'sunflower seed', 'swan', 'sweet peppers', 'taco - size', 'taco sauce', 'tail', 'tajin seasoning', 'tangerine juice', \"tasty 's old\", \"tasty 's roast\", 'tasty mccormick ® savory', 'texas pete', 'thyme leaves', 'tortilla shell', 'towel', 'truffle butter', 'truffle sauce', 'ufc brand', 'vanilla bean', 'vanilla seed', 'vanilla yogurt', 'vegan chorizon', 'vegetable crudité', 'vegetable wonton', 'vegetarian mushroom oyster sauce', 'verde', 'vine', 'vinegar potato', 'waffle fries', 'waffle iron', 'walnuts', 'watercres', 'waxy potato', 'wheat bread', 'wheat macaroni', 'wine glass', 'worcestershire', 'yerba', '® creamy', '⅛-inch', '⅞ cup'] will be ignored\n",
      "  warnings.warn(\n"
     ]
    }
   ],
   "source": [
    "ingr_binarizer = MultiLabelBinarizer()\n",
    "ingr_binarizer.fit(X_train)\n",
    "\n",
    "X_train = ingr_binarizer.transform(X_train)\n",
    "X_test = ingr_binarizer.transform(X_test)\n",
    "\n",
    "tags_binarizer = MultiLabelBinarizer()\n",
    "tags_binarizer.fit(y_train)\n",
    "\n",
    "y_train = tags_binarizer.transform(y_train)\n",
    "y_test = tags_binarizer.transform(y_test)"
   ]
  },
  {
   "cell_type": "code",
   "execution_count": 7,
   "metadata": {},
   "outputs": [],
   "source": [
    "clf = RidgeClassifier(alpha=1).fit(X_train, y_train)"
   ]
  },
  {
   "cell_type": "code",
   "execution_count": 10,
   "metadata": {},
   "outputs": [
    {
     "data": {
      "text/plain": [
       "0.1990512227566709"
      ]
     },
     "execution_count": 10,
     "metadata": {},
     "output_type": "execute_result"
    }
   ],
   "source": [
    "f1_score(y_test, clf.predict(X_test), average='macro',zero_division = 0)"
   ]
  },
  {
   "cell_type": "code",
   "execution_count": null,
   "metadata": {},
   "outputs": [],
   "source": [
    "y_test_changed = tags_binarizer.inverse_transform(y_test)\n",
    "pred_changed = tags_binarizer.inverse_transform(clf.predict(X_test))"
   ]
  },
  {
   "cell_type": "code",
   "execution_count": null,
   "metadata": {},
   "outputs": [],
   "source": [
    "f1 = f1_score(y_test, clf.predict(X_test), average=None,zero_division = 1)"
   ]
  },
  {
   "cell_type": "code",
   "execution_count": null,
   "metadata": {},
   "outputs": [],
   "source": [
    "dict1 = dict()\n",
    "for i,j in zip(tags_binarizer.classes_, f1):\n",
    "    dict1[i] = [j]"
   ]
  },
  {
   "cell_type": "code",
   "execution_count": null,
   "metadata": {},
   "outputs": [],
   "source": [
    "li = []\n",
    "for i in y_test_changed:\n",
    "    for j in i:\n",
    "        li.append(j)"
   ]
  },
  {
   "cell_type": "code",
   "execution_count": null,
   "metadata": {},
   "outputs": [],
   "source": [
    "count = Counter(li)"
   ]
  },
  {
   "cell_type": "code",
   "execution_count": null,
   "metadata": {},
   "outputs": [],
   "source": [
    "for i,j in count.items():\n",
    "    dict1[i].append(j)"
   ]
  },
  {
   "cell_type": "code",
   "execution_count": null,
   "metadata": {},
   "outputs": [],
   "source": [
    "sd = pd.DataFrame.from_dict(dict1,orient='index')\n",
    "sd.rename(columns = {0:'F1-Score',1:'Count'},inplace = True)"
   ]
  }
 ],
 "metadata": {
  "kernelspec": {
   "display_name": "Python 3",
   "language": "python",
   "name": "python3"
  },
  "language_info": {
   "codemirror_mode": {
    "name": "ipython",
    "version": 3
   },
   "file_extension": ".py",
   "mimetype": "text/x-python",
   "name": "python",
   "nbconvert_exporter": "python",
   "pygments_lexer": "ipython3",
   "version": "3.10.13"
  }
 },
 "nbformat": 4,
 "nbformat_minor": 2
}
