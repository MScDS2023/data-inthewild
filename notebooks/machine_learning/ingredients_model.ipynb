{
 "cells": [
  {
   "cell_type": "code",
   "execution_count": 1,
   "metadata": {},
   "outputs": [],
   "source": [
    "from sklearn.linear_model import RidgeClassifier, RidgeClassifierCV\n",
    "\n",
    "from sklearn.model_selection import train_test_split\n",
    "from sklearn.preprocessing import MultiLabelBinarizer\n",
    "\n",
    "from sklearn.metrics import f1_score\n",
    "\n",
    "import json\n",
    "import pandas as pd\n",
    "\n",
    "from collections import Counter"
   ]
  },
  {
   "cell_type": "code",
   "execution_count": 2,
   "metadata": {},
   "outputs": [],
   "source": [
    "FILE_PATH = '../../data/processed/data.json'\n",
    "\n",
    "with open(FILE_PATH, 'r', encoding='utf-8') as f:\n",
    "    data = json.load(f)"
   ]
  },
  {
   "cell_type": "code",
   "execution_count": 3,
   "metadata": {},
   "outputs": [],
   "source": [
    "X, y = zip(*[(key, recipe['geographical_tags_updated']) for key, recipe in data.items()])"
   ]
  },
  {
   "cell_type": "code",
   "execution_count": 4,
   "metadata": {},
   "outputs": [],
   "source": [
    "X_train_index, X_test_index, y_train, y_test = train_test_split(X, y, random_state=44)"
   ]
  },
  {
   "cell_type": "code",
   "execution_count": 5,
   "metadata": {},
   "outputs": [],
   "source": [
    "X_train = []\n",
    "X_test = []\n",
    "for i in X_train_index:\n",
    "    X_train.append(data[i]['ingredient_annotations'])\n",
    "for j in X_test_index:\n",
    "    X_test.append(data[j]['ingredient_annotations'])"
   ]
  },
  {
   "cell_type": "code",
   "execution_count": 6,
   "metadata": {},
   "outputs": [
    {
     "name": "stderr",
     "output_type": "stream",
     "text": [
      "c:\\Users\\Bruger\\Code\\School\\Data_Wrangling\\data-inthewild\\new_env\\lib\\site-packages\\sklearn\\preprocessing\\_label.py:900: UserWarning: unknown class(es) ['14x18', '25', '4', 'aaan', 'ajika', 'ale', 'american', 'angus beef', 'arbol chile', 'arturo sauce', 'atlantic salmon', 'bagel', 'banana ketchup', 'basil pesto or sauce', 'beef chuck', 'beef chuck roast', 'bisquick', 'blanco', 'bonito flake', 'brandy or cognac', 'bread bowl', 'brown butter', 'brown rice flour', 'bulb', 'bulleit bourbon', 'bush ’s ®', 'butter chicken sauce', 'button mushroom', 'cabot vermont', 'caesar', 'canadian bacon', 'cane', 'canned artichoke', 'caper brine', 'carpaccio', 'carrot peel', 'cat', 'catnip', 'celery seed', 'celery stem', 'cereal', 'chamoy', 'charcoal', 'cheese doritos', 'cheese frosting', 'cheese sauce', 'chihuahua', 'chile lime', 'chili - lime sauce', 'chili worm salt', 'chimichurri', 'chinese broccoli', 'chipotle sauce', 'choco pie', 'chocolate chip cookie', 'cilantro rice', 'coconut powder', 'coconut shell', 'coconut water', 'cook oat', 'cooking liquid', 'cooking oil spray', 'cooking water', 'coppa', 'corn masa', 'corn taco', 'cow', 'crème', 'curry sauce', 'dente', 'dried blackberry', 'dried linguine', 'dry quinoa', 'dry rosé wine', 'earl grey teabags', 'fajita', 'fish seasoning', 'fisher ®', 'flakes', 'flavorup !', 'food', 'fraîche', 'freekeh', 'french ’s', 'fried onions', 'fried shallot', 'fryer', 'gala apple', 'garlic alfredo sauce', 'garlic edamame', 'garnicia', 'garnishg', 'garnishtorn', 'gemeli pasta', 'glass', 'glue', 'goat cheese', 'gourmet gardens ™ ginger paste', 'grape', 'grapefruit soda', 'green jackfruit', 'green lettuce', 'green papaya', 'grigio', 'guinness extra stout', 'halloween', 'hass avocado', 'herbe de provence', 'hibiscus flower', 'homemade breadcrumb', 'hominy', 'hummu', 'huy fong foods', 'italian salad', 'japanese curry paste', 'japones chile', 'joint', 'jufran', 'kachumber', 'kaffir lime', 'kani', 'kebab', 'kraft ® deluxe macaroni & cheese', 'lamb chop', 'large orange', 'lauriat', \"lawry 's\", 'leafy green', 'lime peel', 'loaf mujigae - tteok', 'lobster', 'lobster meat', 'lollipop', 'macaroni and cheese', 'machsticks', 'mango nectar', 'marca pina', 'margarine', 'martin brand', 'mayoketchup', 'mccormick ® basil', 'mccormick ® brown gravy', 'mccormick ® grill', 'mccormick ® ground coriander', 'mccormick ® oregano', 'mccormick ® smoky spice blend', 'mccormick ® whole', 'medjool date', 'mezcal', 'milk ricotta', 'minced shallot', 'mung lentils', 'mung(moong', 'octopu', 'orange sweet potato', 'organic chickpea', 'oscar mayer', 'oscar mayer ® bacon', 'pace ®', 'pace ® queso blanco', 'pancake', 'panda cooky', 'pandan', 'paneer masala', 'papaya', 'pappardelle noodle', 'parker house', 'parlsey', 'pastina', 'peanut butter cereal', 'peeled', 'peperoncini', 'peppercorns', 'petal', 'pete', 'pickled pepperoncinis', 'pillsbury', 'pineapple cake', 'plum', 'poblano chile', 'potato flour', 'poultry rub', 'poultry stock', 'powder', 'pretzel bun', 'prune', 'puree', 'puréed', 'quinoa flour', 'radishes', 'rainbow carrot', 'rainbow sprinkle', 'raita', 'raw pumpkin', 'red skin potato', 'rice pulao', 'ritz cracker', 'russet potato', 'rye sandwich', 'rye whiskey', 'saffron thread', 'sausages', 'sazon', 'scraper', 'seltzer', 'sesame seed bun', 'sesame seed oil', 'shelled edamame', 'sherry wine', 'siracha', 'sopressata', 'sour cream and onion', 'sparerib', 'split pigeon peas', 'sriracha hot sauce', 'starter', 'sticky rice', 'stock', 'suerkraut', 'sugar cane vinegar', 'sugar cookie dough', 'sunflower seed', 'swan', 'taco sauce', 'tail', 'tajin seasoning', \"tasty 's old\", 'texas', 'thai eggplant', 'thyme leaves', 'tortilla shell', 'truffle sauce', 'vanilla bean', 'vanilla yogurt', 'vegan bbq sauce', 'vegan chorizon', 'vegetable crudité', 'vegetable wonton', 'walnuts', 'water chestnut', 'watercres', 'waxy potato', 'welch', 'wheat bread', 'wheat macaroni', 'worcestershire', 'yerba', 'ziti', '⅛-inch'] will be ignored\n",
      "  warnings.warn(\n"
     ]
    }
   ],
   "source": [
    "ingr_binarizer = MultiLabelBinarizer()\n",
    "ingr_binarizer.fit(X_train)\n",
    "\n",
    "X_train = ingr_binarizer.transform(X_train)\n",
    "X_test = ingr_binarizer.transform(X_test)\n",
    "\n",
    "tags_binarizer = MultiLabelBinarizer()\n",
    "tags_binarizer.fit(y_train)\n",
    "\n",
    "y_train = tags_binarizer.transform(y_train)\n",
    "y_test = tags_binarizer.transform(y_test)"
   ]
  },
  {
   "cell_type": "code",
   "execution_count": 7,
   "metadata": {},
   "outputs": [],
   "source": [
    "clf = RidgeClassifier(alpha=1).fit(X_train, y_train)"
   ]
  },
  {
   "cell_type": "code",
   "execution_count": 8,
   "metadata": {},
   "outputs": [
    {
     "data": {
      "text/plain": [
       "0.181414000698102"
      ]
     },
     "execution_count": 8,
     "metadata": {},
     "output_type": "execute_result"
    }
   ],
   "source": [
    "f1_score(y_test, clf.predict(X_test), average='macro',zero_division = 0)"
   ]
  },
  {
   "cell_type": "code",
   "execution_count": 9,
   "metadata": {},
   "outputs": [],
   "source": [
    "y_test_changed = tags_binarizer.inverse_transform(y_test)\n",
    "pred_changed = tags_binarizer.inverse_transform(clf.predict(X_test))"
   ]
  },
  {
   "cell_type": "code",
   "execution_count": 10,
   "metadata": {},
   "outputs": [],
   "source": [
    "f1 = f1_score(y_test, clf.predict(X_test), average=None,zero_division = 1)"
   ]
  },
  {
   "cell_type": "code",
   "execution_count": 11,
   "metadata": {},
   "outputs": [],
   "source": [
    "dict1 = dict()\n",
    "for i,j in zip(tags_binarizer.classes_, f1):\n",
    "    dict1[i] = [j]"
   ]
  },
  {
   "cell_type": "code",
   "execution_count": 12,
   "metadata": {},
   "outputs": [],
   "source": [
    "li = []\n",
    "for i in y_test_changed:\n",
    "    for j in i:\n",
    "        li.append(j)"
   ]
  },
  {
   "cell_type": "code",
   "execution_count": 13,
   "metadata": {},
   "outputs": [],
   "source": [
    "count = Counter(li)"
   ]
  },
  {
   "cell_type": "code",
   "execution_count": 14,
   "metadata": {},
   "outputs": [],
   "source": [
    "for i,j in count.items():\n",
    "    dict1[i].append(j)"
   ]
  },
  {
   "cell_type": "code",
   "execution_count": 15,
   "metadata": {},
   "outputs": [],
   "source": [
    "sd = pd.DataFrame.from_dict(dict1,orient='index')\n",
    "sd.rename(columns = {0:'F1-Score',1:'Count'},inplace = True)"
   ]
  },
  {
   "cell_type": "code",
   "execution_count": 19,
   "metadata": {},
   "outputs": [
    {
     "data": {
      "text/html": [
       "<div>\n",
       "<style scoped>\n",
       "    .dataframe tbody tr th:only-of-type {\n",
       "        vertical-align: middle;\n",
       "    }\n",
       "\n",
       "    .dataframe tbody tr th {\n",
       "        vertical-align: top;\n",
       "    }\n",
       "\n",
       "    .dataframe thead th {\n",
       "        text-align: right;\n",
       "    }\n",
       "</style>\n",
       "<table border=\"1\" class=\"dataframe\">\n",
       "  <thead>\n",
       "    <tr style=\"text-align: right;\">\n",
       "      <th></th>\n",
       "      <th>F1-Score</th>\n",
       "      <th>Count</th>\n",
       "    </tr>\n",
       "  </thead>\n",
       "  <tbody>\n",
       "    <tr>\n",
       "      <th>France</th>\n",
       "      <td>1.000000</td>\n",
       "      <td>23.0</td>\n",
       "    </tr>\n",
       "    <tr>\n",
       "      <th>Laos</th>\n",
       "      <td>1.000000</td>\n",
       "      <td>3.0</td>\n",
       "    </tr>\n",
       "    <tr>\n",
       "      <th>Iran</th>\n",
       "      <td>1.000000</td>\n",
       "      <td>NaN</td>\n",
       "    </tr>\n",
       "    <tr>\n",
       "      <th>Hawaii</th>\n",
       "      <td>1.000000</td>\n",
       "      <td>8.0</td>\n",
       "    </tr>\n",
       "    <tr>\n",
       "      <th>Haiti</th>\n",
       "      <td>1.000000</td>\n",
       "      <td>NaN</td>\n",
       "    </tr>\n",
       "    <tr>\n",
       "      <th>Asia</th>\n",
       "      <td>0.803571</td>\n",
       "      <td>126.0</td>\n",
       "    </tr>\n",
       "    <tr>\n",
       "      <th>India</th>\n",
       "      <td>0.727273</td>\n",
       "      <td>28.0</td>\n",
       "    </tr>\n",
       "    <tr>\n",
       "      <th>Italy</th>\n",
       "      <td>0.692308</td>\n",
       "      <td>143.0</td>\n",
       "    </tr>\n",
       "    <tr>\n",
       "      <th>Mexico</th>\n",
       "      <td>0.671429</td>\n",
       "      <td>83.0</td>\n",
       "    </tr>\n",
       "    <tr>\n",
       "      <th>Puerto Rico</th>\n",
       "      <td>0.666667</td>\n",
       "      <td>4.0</td>\n",
       "    </tr>\n",
       "    <tr>\n",
       "      <th>North America</th>\n",
       "      <td>0.635995</td>\n",
       "      <td>352.0</td>\n",
       "    </tr>\n",
       "    <tr>\n",
       "      <th>Korea</th>\n",
       "      <td>0.500000</td>\n",
       "      <td>6.0</td>\n",
       "    </tr>\n",
       "    <tr>\n",
       "      <th>Europe</th>\n",
       "      <td>0.441558</td>\n",
       "      <td>144.0</td>\n",
       "    </tr>\n",
       "    <tr>\n",
       "      <th>Japan</th>\n",
       "      <td>0.421053</td>\n",
       "      <td>27.0</td>\n",
       "    </tr>\n",
       "    <tr>\n",
       "      <th>Thailand</th>\n",
       "      <td>0.347826</td>\n",
       "      <td>19.0</td>\n",
       "    </tr>\n",
       "    <tr>\n",
       "      <th>Caribbean</th>\n",
       "      <td>0.266667</td>\n",
       "      <td>12.0</td>\n",
       "    </tr>\n",
       "    <tr>\n",
       "      <th>Vietnam</th>\n",
       "      <td>0.250000</td>\n",
       "      <td>6.0</td>\n",
       "    </tr>\n",
       "    <tr>\n",
       "      <th>Mediterranean</th>\n",
       "      <td>0.235294</td>\n",
       "      <td>12.0</td>\n",
       "    </tr>\n",
       "    <tr>\n",
       "      <th>Middle East</th>\n",
       "      <td>0.235294</td>\n",
       "      <td>14.0</td>\n",
       "    </tr>\n",
       "    <tr>\n",
       "      <th>China</th>\n",
       "      <td>0.190476</td>\n",
       "      <td>32.0</td>\n",
       "    </tr>\n",
       "    <tr>\n",
       "      <th>Central and South America</th>\n",
       "      <td>0.166667</td>\n",
       "      <td>33.0</td>\n",
       "    </tr>\n",
       "    <tr>\n",
       "      <th>Southern United States</th>\n",
       "      <td>0.102564</td>\n",
       "      <td>30.0</td>\n",
       "    </tr>\n",
       "    <tr>\n",
       "      <th>United Kingdom</th>\n",
       "      <td>0.083333</td>\n",
       "      <td>21.0</td>\n",
       "    </tr>\n",
       "    <tr>\n",
       "      <th>Poland</th>\n",
       "      <td>0.000000</td>\n",
       "      <td>1.0</td>\n",
       "    </tr>\n",
       "    <tr>\n",
       "      <th>Venezuela</th>\n",
       "      <td>0.000000</td>\n",
       "      <td>13.0</td>\n",
       "    </tr>\n",
       "    <tr>\n",
       "      <th>Sweden</th>\n",
       "      <td>0.000000</td>\n",
       "      <td>2.0</td>\n",
       "    </tr>\n",
       "    <tr>\n",
       "      <th>Taiwan</th>\n",
       "      <td>0.000000</td>\n",
       "      <td>2.0</td>\n",
       "    </tr>\n",
       "    <tr>\n",
       "      <th>South Africa</th>\n",
       "      <td>0.000000</td>\n",
       "      <td>17.0</td>\n",
       "    </tr>\n",
       "    <tr>\n",
       "      <th>Southwestern United States</th>\n",
       "      <td>0.000000</td>\n",
       "      <td>9.0</td>\n",
       "    </tr>\n",
       "    <tr>\n",
       "      <th>Africa</th>\n",
       "      <td>0.000000</td>\n",
       "      <td>3.0</td>\n",
       "    </tr>\n",
       "    <tr>\n",
       "      <th>Philippines</th>\n",
       "      <td>0.000000</td>\n",
       "      <td>21.0</td>\n",
       "    </tr>\n",
       "    <tr>\n",
       "      <th>Peru</th>\n",
       "      <td>0.000000</td>\n",
       "      <td>16.0</td>\n",
       "    </tr>\n",
       "    <tr>\n",
       "      <th>Lebanon</th>\n",
       "      <td>0.000000</td>\n",
       "      <td>14.0</td>\n",
       "    </tr>\n",
       "    <tr>\n",
       "      <th>Kenya</th>\n",
       "      <td>0.000000</td>\n",
       "      <td>3.0</td>\n",
       "    </tr>\n",
       "    <tr>\n",
       "      <th>Jamaica</th>\n",
       "      <td>0.000000</td>\n",
       "      <td>16.0</td>\n",
       "    </tr>\n",
       "    <tr>\n",
       "      <th>Germany</th>\n",
       "      <td>0.000000</td>\n",
       "      <td>4.0</td>\n",
       "    </tr>\n",
       "    <tr>\n",
       "      <th>Ethiopia</th>\n",
       "      <td>0.000000</td>\n",
       "      <td>3.0</td>\n",
       "    </tr>\n",
       "    <tr>\n",
       "      <th>Dominican Republic</th>\n",
       "      <td>0.000000</td>\n",
       "      <td>14.0</td>\n",
       "    </tr>\n",
       "    <tr>\n",
       "      <th>Cuba</th>\n",
       "      <td>0.000000</td>\n",
       "      <td>7.0</td>\n",
       "    </tr>\n",
       "    <tr>\n",
       "      <th>Brazil</th>\n",
       "      <td>0.000000</td>\n",
       "      <td>1.0</td>\n",
       "    </tr>\n",
       "    <tr>\n",
       "      <th>West Africa</th>\n",
       "      <td>0.000000</td>\n",
       "      <td>2.0</td>\n",
       "    </tr>\n",
       "  </tbody>\n",
       "</table>\n",
       "</div>"
      ],
      "text/plain": [
       "                            F1-Score  Count\n",
       "France                      1.000000   23.0\n",
       "Laos                        1.000000    3.0\n",
       "Iran                        1.000000    NaN\n",
       "Hawaii                      1.000000    8.0\n",
       "Haiti                       1.000000    NaN\n",
       "Asia                        0.803571  126.0\n",
       "India                       0.727273   28.0\n",
       "Italy                       0.692308  143.0\n",
       "Mexico                      0.671429   83.0\n",
       "Puerto Rico                 0.666667    4.0\n",
       "North America               0.635995  352.0\n",
       "Korea                       0.500000    6.0\n",
       "Europe                      0.441558  144.0\n",
       "Japan                       0.421053   27.0\n",
       "Thailand                    0.347826   19.0\n",
       "Caribbean                   0.266667   12.0\n",
       "Vietnam                     0.250000    6.0\n",
       "Mediterranean               0.235294   12.0\n",
       "Middle East                 0.235294   14.0\n",
       "China                       0.190476   32.0\n",
       "Central and South America   0.166667   33.0\n",
       "Southern United States      0.102564   30.0\n",
       "United Kingdom              0.083333   21.0\n",
       "Poland                      0.000000    1.0\n",
       "Venezuela                   0.000000   13.0\n",
       "Sweden                      0.000000    2.0\n",
       "Taiwan                      0.000000    2.0\n",
       "South Africa                0.000000   17.0\n",
       "Southwestern United States  0.000000    9.0\n",
       "Africa                      0.000000    3.0\n",
       "Philippines                 0.000000   21.0\n",
       "Peru                        0.000000   16.0\n",
       "Lebanon                     0.000000   14.0\n",
       "Kenya                       0.000000    3.0\n",
       "Jamaica                     0.000000   16.0\n",
       "Germany                     0.000000    4.0\n",
       "Ethiopia                    0.000000    3.0\n",
       "Dominican Republic          0.000000   14.0\n",
       "Cuba                        0.000000    7.0\n",
       "Brazil                      0.000000    1.0\n",
       "West Africa                 0.000000    2.0"
      ]
     },
     "execution_count": 19,
     "metadata": {},
     "output_type": "execute_result"
    }
   ],
   "source": [
    "sd.sort_values('F1-Score', ascending=False)"
   ]
  },
  {
   "cell_type": "code",
   "execution_count": null,
   "metadata": {},
   "outputs": [],
   "source": []
  }
 ],
 "metadata": {
  "kernelspec": {
   "display_name": "Python 3",
   "language": "python",
   "name": "python3"
  },
  "language_info": {
   "codemirror_mode": {
    "name": "ipython",
    "version": 3
   },
   "file_extension": ".py",
   "mimetype": "text/x-python",
   "name": "python",
   "nbconvert_exporter": "python",
   "pygments_lexer": "ipython3",
   "version": "3.10.11"
  }
 },
 "nbformat": 4,
 "nbformat_minor": 2
}
